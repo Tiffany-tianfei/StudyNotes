{
 "cells": [
  {
   "cell_type": "code",
   "execution_count": null,
   "metadata": {},
   "outputs": [],
   "source": [
    "import numpy as np\n",
    "import pandas as pd\n",
    "import matplotlib.pyplot as plt\n",
    "import seaborn as sns"
   ]
  },
  {
   "cell_type": "code",
   "execution_count": null,
   "metadata": {},
   "outputs": [],
   "source": [
    "df = pd.read_csv('https://raw.githubusercontent.com/delinai/schulich_ds1_2024/main/Datasets/Assignment1_StreamFlow_Subscription_Data.csv')"
   ]
  },
  {
   "cell_type": "code",
   "execution_count": null,
   "metadata": {},
   "outputs": [],
   "source": [
    "df.head()"
   ]
  },
  {
   "cell_type": "code",
   "execution_count": null,
   "metadata": {},
   "outputs": [],
   "source": [
    "df.info()"
   ]
  },
  {
   "cell_type": "code",
   "execution_count": null,
   "metadata": {},
   "outputs": [],
   "source": [
    "#Cleaning Data 1: Check if there is duplicated data or miss data (except churned)"
   ]
  },
  {
   "cell_type": "code",
   "execution_count": null,
   "metadata": {},
   "outputs": [],
   "source": [
    "df.isna().any()"
   ]
  },
  {
   "cell_type": "code",
   "execution_count": null,
   "metadata": {},
   "outputs": [],
   "source": [
    "df.duplicated().any()"
   ]
  },
  {
   "cell_type": "code",
   "execution_count": null,
   "metadata": {},
   "outputs": [],
   "source": [
    "#Cleaning Data 2: Check if there is abnormal/empty cell that may cause erro"
   ]
  },
  {
   "cell_type": "code",
   "execution_count": null,
   "metadata": {},
   "outputs": [],
   "source": [
    "df['Churned'].describe()"
   ]
  },
  {
   "cell_type": "code",
   "execution_count": null,
   "metadata": {},
   "outputs": [],
   "source": [
    "df['Churned'].astype(object).describe()"
   ]
  },
  {
   "cell_type": "code",
   "execution_count": null,
   "metadata": {},
   "outputs": [],
   "source": [
    "churned =df[df['Churned']!=0]\n",
    "df['Churned'][churned.index].astype(object).describe()"
   ]
  },
  {
   "cell_type": "code",
   "execution_count": null,
   "metadata": {},
   "outputs": [],
   "source": [
    "#Cleaning Data 3: Check if any invalid data for rating"
   ]
  },
  {
   "cell_type": "code",
   "execution_count": null,
   "metadata": {},
   "outputs": [],
   "source": [
    "df['Rating_Given'].astype(object).describe()\n"
   ]
  },
  {
   "cell_type": "code",
   "execution_count": null,
   "metadata": {},
   "outputs": [],
   "source": [
    "print(df[df['Rating_Given']>5].empty)\n",
    "print(df[df['Rating_Given']<1].empty)"
   ]
  },
  {
   "cell_type": "code",
   "execution_count": null,
   "metadata": {},
   "outputs": [],
   "source": [
    "# Cleaning Data 4: Convert Subscription_Start_Date from string to date, Check if all date are valid"
   ]
  },
  {
   "cell_type": "code",
   "execution_count": null,
   "metadata": {},
   "outputs": [],
   "source": [
    "import datetime as dt\n",
    "today = dt.date.today()\n",
    "subdate = pd.to_datetime(df['Subscription_Start_Date']).dt.date\n",
    "df[subdate > today].empty"
   ]
  },
  {
   "cell_type": "code",
   "execution_count": null,
   "metadata": {},
   "outputs": [],
   "source": [
    "df['Subscription_Start_Date'].info()"
   ]
  },
  {
   "cell_type": "code",
   "execution_count": null,
   "metadata": {},
   "outputs": [],
   "source": [
    "df['Monthly_Payment'].astype(object).describe()"
   ]
  },
  {
   "cell_type": "code",
   "execution_count": null,
   "metadata": {},
   "outputs": [],
   "source": [
    "df['Payment_Method'].describe()"
   ]
  },
  {
   "cell_type": "code",
   "execution_count": null,
   "metadata": {},
   "outputs": [],
   "source": [
    "df['Subscription_Type'].describe()"
   ]
  },
  {
   "cell_type": "code",
   "execution_count": null,
   "metadata": {},
   "outputs": [],
   "source": [
    "df['Favorite_Genre'].describe()"
   ]
  },
  {
   "cell_type": "code",
   "execution_count": null,
   "metadata": {},
   "outputs": [],
   "source": [
    "# Seperate Churned and Unchurned users in 2 new Dataframs for observation"
   ]
  },
  {
   "cell_type": "code",
   "execution_count": null,
   "metadata": {},
   "outputs": [],
   "source": [
    "#Datafram for churned user\n",
    "df_churned = churned.copy()\n",
    "df_churned['Date_of_Churn'] = pd.to_datetime(df['Date_of_Churn']).dt.date"
   ]
  },
  {
   "cell_type": "code",
   "execution_count": null,
   "metadata": {},
   "outputs": [],
   "source": [
    "df_churned.shape"
   ]
  },
  {
   "cell_type": "code",
   "execution_count": null,
   "metadata": {},
   "outputs": [],
   "source": [
    "#Datafram for stayed user\n",
    "df_stay = df[df['Churned']==0].drop(columns=['Churned','Date_of_Churn','Reason_for_Churn'])\n",
    "df_stay.info()\n",
    "df_stay.head()"
   ]
  },
  {
   "cell_type": "code",
   "execution_count": null,
   "metadata": {},
   "outputs": [],
   "source": [
    "#Analyse the Age distribution"
   ]
  },
  {
   "cell_type": "code",
   "execution_count": null,
   "metadata": {},
   "outputs": [],
   "source": [
    "sns.boxplot(x='Churned', y='Age', data=df)\n",
    "plt.title('Age Distribution for Churned and Non-Churned Users')\n",
    "plt.xlabel('Churned')\n",
    "plt.ylabel('Age')\n",
    "plt.xticks([0, 1], ['Stayed', 'Churned'])\n",
    "plt.show()"
   ]
  },
  {
   "cell_type": "code",
   "execution_count": null,
   "metadata": {},
   "outputs": [],
   "source": [
    "sns.kdeplot(data=df[df['Churned'] == 0], x='Age', label='Stayed',fill = 'True',color='blue')\n",
    "sns.kdeplot(data=df[df['Churned'] == 1], x='Age', label='Churned',fill = 'True',color='red')\n",
    "plt.title('Distribution of Age for Churned and Non-Churned Users')\n",
    "plt.xlabel('Age')\n",
    "plt.ylabel('Density')\n",
    "plt.legend(title='User Status')\n",
    "plt.show()"
   ]
  },
  {
   "cell_type": "code",
   "execution_count": null,
   "metadata": {},
   "outputs": [],
   "source": [
    "# Analyse the Gender Distribution"
   ]
  },
  {
   "cell_type": "code",
   "execution_count": null,
   "metadata": {},
   "outputs": [],
   "source": [
    "gender_churn = df.groupby(['Gender', 'Churned']).size().unstack().fillna(0)\n",
    "fig, ax = plt.subplots(figsize=(12, 8))\n",
    "gender_churn_percentage = gender_churn.div(gender_churn.sum(axis=1), axis=0) * 100\n",
    "gender_churn_percentage.plot(kind='bar', stacked=True, ax=ax)\n",
    "ax.set_title('Percentage Distribution of Gender for Churned and Non-Churned Users')\n",
    "ax.set_xlabel('Gender')\n",
    "ax.set_ylabel('Percentage')\n",
    "ax.legend(title='Churned', labels=['Stayed', 'Churned'])\n",
    "plt.xticks(rotation=0)\n",
    "for p in ax.patches:\n",
    "    width = p.get_width()\n",
    "    height = p.get_height()\n",
    "    x, y = p.get_xy() \n",
    "    ax.text(x + width / 2, y + height / 2, f'{height:.1f}%', ha='center', va='center')\n",
    "\n",
    "plt.show()"
   ]
  },
  {
   "cell_type": "code",
   "execution_count": null,
   "metadata": {},
   "outputs": [],
   "source": [
    "df.groupby('Gender').size().plot.pie(autopct='%1.0f%%')\n",
    "plt.title('Gender Distribution for all Users ')"
   ]
  },
  {
   "cell_type": "code",
   "execution_count": null,
   "metadata": {},
   "outputs": [],
   "source": [
    "#Analyse Rating Given"
   ]
  },
  {
   "cell_type": "code",
   "execution_count": null,
   "metadata": {},
   "outputs": [],
   "source": [
    "ax = plt.subplot()\n",
    "ax.boxplot([df_stay['Rating_Given'],\n",
    "           df_churned['Rating_Given']])\n",
    "ax.set_xticklabels([\"Stayed\",\"Churned\"])\n",
    "ax.set_ylabel(\"Rating Given\")\n",
    "plt.show()\n",
    "plt.clf()"
   ]
  },
  {
   "cell_type": "code",
   "execution_count": null,
   "metadata": {},
   "outputs": [],
   "source": [
    "#Analyse Average session length "
   ]
  },
  {
   "cell_type": "code",
   "execution_count": null,
   "metadata": {},
   "outputs": [],
   "source": [
    "ax = plt.subplot()\n",
    "ax.boxplot([df_stay['Average_Session_Length'],\n",
    "           df_churned['Average_Session_Length']])\n",
    "ax.set_xticklabels([\"Stayed\",\"Churned\"])\n",
    "ax.set_ylabel(\"Average_Session_Length\")\n",
    "plt.show()\n",
    "plt.clf()"
   ]
  },
  {
   "cell_type": "code",
   "execution_count": null,
   "metadata": {},
   "outputs": [],
   "source": [
    "sns.scatterplot(x='Churned', y='Average_Session_Length', data=df)"
   ]
  },
  {
   "cell_type": "code",
   "execution_count": null,
   "metadata": {},
   "outputs": [],
   "source": [
    "# Analyse Monthly Payment"
   ]
  },
  {
   "cell_type": "code",
   "execution_count": null,
   "metadata": {},
   "outputs": [],
   "source": [
    "fig, ax = plt.subplots()\n",
    "\n",
    "a_heights, a_bins = np.histogram(df_churned['Monthly_Payment'])\n",
    "b_heights, b_bins = np.histogram(df_stay['Monthly_Payment'], bins=a_bins)\n",
    "width = (a_bins[1] - a_bins[0])/3\n",
    "ax.bar(a_bins[:-1], a_heights, width=width, color={\"red\":\"Churned\"})\n",
    "ax.bar(b_bins[:-1]+width, b_heights, width=width, color={\"green\":\"Stayed\"})\n",
    "plt.title('Monthly Pay')\n"
   ]
  },
  {
   "cell_type": "code",
   "execution_count": null,
   "metadata": {},
   "outputs": [],
   "source": [
    "#Analyse the Subscription Type"
   ]
  },
  {
   "cell_type": "code",
   "execution_count": null,
   "metadata": {},
   "outputs": [],
   "source": [
    "subscription_churn = df.groupby(['Subscription_Type', 'Churned']).size().unstack().fillna(0)\n",
    "subscription_churn_percentage = subscription_churn.div(subscription_churn.sum(axis=1), axis=0) * 100\n",
    "\n",
    "fig, ax = plt.subplots(figsize=(12, 8))\n",
    "subscription_churn_percentage.plot(kind='bar', stacked=True, ax=ax)\n",
    "\n",
    "ax.set_title('Percentage Distribution of Subscription Type for Churned and Non-Churned Users')\n",
    "ax.set_xlabel('Subscription Type')\n",
    "ax.set_ylabel('Percentage')\n",
    "ax.legend(title='Churned', labels=['Stayed', 'Churned'])\n",
    "plt.xticks(rotation=0)\n",
    "\n",
    "for p in ax.patches:\n",
    "    width = p.get_width()\n",
    "    height = p.get_height()\n",
    "    x, y = p.get_xy() \n",
    "    ax.text(x + width / 2, y + height / 2, f'{height:.1f}%', ha='center', va='center')\n",
    "\n",
    "plt.show()"
   ]
  },
  {
   "cell_type": "code",
   "execution_count": null,
   "metadata": {},
   "outputs": [],
   "source": [
    "# Analyse Favorite Genre "
   ]
  },
  {
   "cell_type": "code",
   "execution_count": null,
   "metadata": {},
   "outputs": [],
   "source": [
    "df_churned.groupby('Favorite_Genre').size().plot.pie(autopct='%1.0f%%')\n",
    "plt.title('Churned Costumer Favorite Genre')"
   ]
  },
  {
   "cell_type": "code",
   "execution_count": null,
   "metadata": {},
   "outputs": [],
   "source": [
    "df_stay.groupby('Favorite_Genre').size().plot.pie(autopct='%1.0f%%')\n",
    "plt.title('Stayed Costumer Favorite Genre')"
   ]
  },
  {
   "cell_type": "code",
   "execution_count": null,
   "metadata": {},
   "outputs": [],
   "source": [
    "#Analyse the Reason for Churn"
   ]
  },
  {
   "cell_type": "code",
   "execution_count": null,
   "metadata": {},
   "outputs": [],
   "source": [
    "df_churned.groupby('Reason_for_Churn').size().plot.pie(autopct='%1.0f%%')\n",
    "plt.title('Percentage distribution of Reason for Churn')"
   ]
  },
  {
   "cell_type": "code",
   "execution_count": null,
   "metadata": {},
   "outputs": [],
   "source": [
    "#Analyse the Device used"
   ]
  },
  {
   "cell_type": "code",
   "execution_count": null,
   "metadata": {},
   "outputs": [],
   "source": [
    "df.groupby('Devices_Used').size().plot.pie(autopct='%1.0f%%')\n",
    "plt.title('Percentage Devices_Used total')"
   ]
  },
  {
   "cell_type": "code",
   "execution_count": null,
   "metadata": {},
   "outputs": [],
   "source": [
    "device_churn = df.groupby(['Devices_Used', 'Churned']).size().unstack().fillna(0)\n",
    "device_churn_percentage = device_churn.div(device_churn.sum(axis=1), axis=0) * 100\n",
    "\n",
    "fig, ax = plt.subplots(figsize=(12, 8))\n",
    "device_churn_percentage.plot(kind='bar', stacked=True, ax=ax)\n",
    "ax.set_title('Percentage Distribution of Devices for Churned and Non-Churned Users')\n",
    "ax.set_xlabel('Devices Used')\n",
    "ax.set_ylabel('Percentage')\n",
    "ax.legend(title='Churned', labels=['Stayed', 'Churned'])\n",
    "plt.xticks(rotation=0)\n",
    "\n",
    "for p in ax.patches:\n",
    "    width = p.get_width()\n",
    "    height = p.get_height()\n",
    "    x, y = p.get_xy() \n",
    "    ax.text(x + width / 2, y + height / 2, f'{height:.1f}%', ha='center', va='center')\n",
    "\n",
    "plt.show()"
   ]
  },
  {
   "cell_type": "code",
   "execution_count": null,
   "metadata": {},
   "outputs": [],
   "source": [
    "# Calculate the duration of days before churned"
   ]
  },
  {
   "cell_type": "code",
   "execution_count": null,
   "metadata": {},
   "outputs": [],
   "source": [
    "# Convert date columns to datetime format\n",
    "df_churned['Subscription_Start_Date'] = pd.to_datetime(df_churned['Subscription_Start_Date'])\n",
    "df_churned['Date_of_Churn'] = pd.to_datetime(df_churned['Date_of_Churn'])\n",
    "df_churned['Duration_before_Churn'] = (df_churned['Date_of_Churn'] - df_churned['Subscription_Start_Date']).dt.days\n",
    "sns.histplot(df_churned['Duration_before_Churn'])"
   ]
  },
  {
   "cell_type": "code",
   "execution_count": null,
   "metadata": {},
   "outputs": [],
   "source": [
    "churned_duration_stats = df[df['Churned'] == 1]['Duration_before_Churn'].describe()\n",
    "print(churned_duration_stats)"
   ]
  },
  {
   "cell_type": "code",
   "execution_count": null,
   "metadata": {},
   "outputs": [],
   "source": [
    "plt.figure(figsize=(12, 8))\n",
    "sns.scatterplot(x='Favorite_Genre', y='Duration_before_Churn', data=df_churned, hue='Favorite_Genre', palette='Set2', s=100, alpha=0.7, edgecolor='w')\n",
    "\n",
    "plt.title('Duration before Churn by Favorite Genre for Churned Users')\n",
    "plt.xlabel('Favorite Genre')\n",
    "plt.ylabel('Duration before Churn (Days)')\n",
    "plt.legend(title='Favorite Genre', bbox_to_anchor=(1.05, 1), loc='upper left')\n",
    "plt.xticks(rotation=45)\n",
    "plt.show()\n"
   ]
  }
 ],
 "metadata": {
  "kernelspec": {
   "display_name": "Python 3",
   "language": "python",
   "name": "python3"
  },
  "language_info": {
   "codemirror_mode": {
    "name": "ipython",
    "version": 3
   },
   "file_extension": ".py",
   "mimetype": "text/x-python",
   "name": "python",
   "nbconvert_exporter": "python",
   "pygments_lexer": "ipython3",
   "version": "3.9.6"
  }
 },
 "nbformat": 4,
 "nbformat_minor": 2
}
