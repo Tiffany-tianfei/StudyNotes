{
 "cells": [
  {
   "cell_type": "code",
   "execution_count": 366,
   "metadata": {},
   "outputs": [],
   "source": [
    "import numpy as np\n",
    "import pandas as pd\n",
    "import matplotlib.pyplot as plt\n",
    "import seaborn as sns"
   ]
  },
  {
   "cell_type": "code",
   "execution_count": 367,
   "metadata": {},
   "outputs": [],
   "source": [
    "df = pd.read_csv('https://raw.githubusercontent.com/delinai/schulich_ds1_2024/main/Datasets/Assignment1_StreamFlow_Subscription_Data.csv')"
   ]
  },
  {
   "cell_type": "code",
   "execution_count": 368,
   "metadata": {},
   "outputs": [
    {
     "data": {
      "text/html": [
       "<div>\n",
       "<style scoped>\n",
       "    .dataframe tbody tr th:only-of-type {\n",
       "        vertical-align: middle;\n",
       "    }\n",
       "\n",
       "    .dataframe tbody tr th {\n",
       "        vertical-align: top;\n",
       "    }\n",
       "\n",
       "    .dataframe thead th {\n",
       "        text-align: right;\n",
       "    }\n",
       "</style>\n",
       "<table border=\"1\" class=\"dataframe\">\n",
       "  <thead>\n",
       "    <tr style=\"text-align: right;\">\n",
       "      <th></th>\n",
       "      <th>User_ID</th>\n",
       "      <th>Age</th>\n",
       "      <th>Gender</th>\n",
       "      <th>Location</th>\n",
       "      <th>Subscription_Start_Date</th>\n",
       "      <th>Subscription_Type</th>\n",
       "      <th>Monthly_Payment</th>\n",
       "      <th>Payment_Method</th>\n",
       "      <th>Monthly_Hours_Watched</th>\n",
       "      <th>Favorite_Genre</th>\n",
       "      <th>Devices_Used</th>\n",
       "      <th>Average_Session_Length</th>\n",
       "      <th>Content_ID</th>\n",
       "      <th>Rating_Given</th>\n",
       "      <th>Churned</th>\n",
       "      <th>Date_of_Churn</th>\n",
       "      <th>Reason_for_Churn</th>\n",
       "    </tr>\n",
       "  </thead>\n",
       "  <tbody>\n",
       "    <tr>\n",
       "      <th>0</th>\n",
       "      <td>1</td>\n",
       "      <td>56</td>\n",
       "      <td>Other</td>\n",
       "      <td>Central</td>\n",
       "      <td>2020-06-07 01:53:37.656934</td>\n",
       "      <td>Premium</td>\n",
       "      <td>19.99</td>\n",
       "      <td>Credit Card</td>\n",
       "      <td>31.513153</td>\n",
       "      <td>Action</td>\n",
       "      <td>PC</td>\n",
       "      <td>1.195762</td>\n",
       "      <td>1023</td>\n",
       "      <td>5</td>\n",
       "      <td>0</td>\n",
       "      <td>NaN</td>\n",
       "      <td>NaN</td>\n",
       "    </tr>\n",
       "    <tr>\n",
       "      <th>1</th>\n",
       "      <td>2</td>\n",
       "      <td>69</td>\n",
       "      <td>Other</td>\n",
       "      <td>West</td>\n",
       "      <td>2024-02-21 01:53:37.656980</td>\n",
       "      <td>Standard</td>\n",
       "      <td>14.99</td>\n",
       "      <td>Credit Card</td>\n",
       "      <td>4.982277</td>\n",
       "      <td>Drama</td>\n",
       "      <td>PC</td>\n",
       "      <td>0.809002</td>\n",
       "      <td>1076</td>\n",
       "      <td>1</td>\n",
       "      <td>0</td>\n",
       "      <td>NaN</td>\n",
       "      <td>NaN</td>\n",
       "    </tr>\n",
       "    <tr>\n",
       "      <th>2</th>\n",
       "      <td>3</td>\n",
       "      <td>46</td>\n",
       "      <td>Female</td>\n",
       "      <td>North</td>\n",
       "      <td>2022-10-06 01:53:37.656995</td>\n",
       "      <td>Standard</td>\n",
       "      <td>14.99</td>\n",
       "      <td>PayPal</td>\n",
       "      <td>4.114953</td>\n",
       "      <td>Sci-Fi</td>\n",
       "      <td>Tablet</td>\n",
       "      <td>1.153570</td>\n",
       "      <td>1095</td>\n",
       "      <td>2</td>\n",
       "      <td>0</td>\n",
       "      <td>NaN</td>\n",
       "      <td>NaN</td>\n",
       "    </tr>\n",
       "    <tr>\n",
       "      <th>3</th>\n",
       "      <td>4</td>\n",
       "      <td>32</td>\n",
       "      <td>Female</td>\n",
       "      <td>East</td>\n",
       "      <td>2022-01-04 01:53:37.657006</td>\n",
       "      <td>Standard</td>\n",
       "      <td>14.99</td>\n",
       "      <td>Credit Card</td>\n",
       "      <td>60.244820</td>\n",
       "      <td>Action</td>\n",
       "      <td>TV</td>\n",
       "      <td>0.609503</td>\n",
       "      <td>1003</td>\n",
       "      <td>1</td>\n",
       "      <td>0</td>\n",
       "      <td>NaN</td>\n",
       "      <td>NaN</td>\n",
       "    </tr>\n",
       "    <tr>\n",
       "      <th>4</th>\n",
       "      <td>5</td>\n",
       "      <td>60</td>\n",
       "      <td>Female</td>\n",
       "      <td>North</td>\n",
       "      <td>2020-03-13 01:53:37.657017</td>\n",
       "      <td>Standard</td>\n",
       "      <td>14.99</td>\n",
       "      <td>Credit Card</td>\n",
       "      <td>4.711855</td>\n",
       "      <td>Sci-Fi</td>\n",
       "      <td>Mobile</td>\n",
       "      <td>0.359971</td>\n",
       "      <td>1012</td>\n",
       "      <td>4</td>\n",
       "      <td>0</td>\n",
       "      <td>NaN</td>\n",
       "      <td>NaN</td>\n",
       "    </tr>\n",
       "  </tbody>\n",
       "</table>\n",
       "</div>"
      ],
      "text/plain": [
       "   User_ID  Age  Gender Location     Subscription_Start_Date  \\\n",
       "0        1   56   Other  Central  2020-06-07 01:53:37.656934   \n",
       "1        2   69   Other     West  2024-02-21 01:53:37.656980   \n",
       "2        3   46  Female    North  2022-10-06 01:53:37.656995   \n",
       "3        4   32  Female     East  2022-01-04 01:53:37.657006   \n",
       "4        5   60  Female    North  2020-03-13 01:53:37.657017   \n",
       "\n",
       "  Subscription_Type  Monthly_Payment Payment_Method  Monthly_Hours_Watched  \\\n",
       "0           Premium            19.99    Credit Card              31.513153   \n",
       "1          Standard            14.99    Credit Card               4.982277   \n",
       "2          Standard            14.99         PayPal               4.114953   \n",
       "3          Standard            14.99    Credit Card              60.244820   \n",
       "4          Standard            14.99    Credit Card               4.711855   \n",
       "\n",
       "  Favorite_Genre Devices_Used  Average_Session_Length  Content_ID  \\\n",
       "0         Action           PC                1.195762        1023   \n",
       "1          Drama           PC                0.809002        1076   \n",
       "2         Sci-Fi       Tablet                1.153570        1095   \n",
       "3         Action           TV                0.609503        1003   \n",
       "4         Sci-Fi       Mobile                0.359971        1012   \n",
       "\n",
       "   Rating_Given  Churned Date_of_Churn Reason_for_Churn  \n",
       "0             5        0           NaN              NaN  \n",
       "1             1        0           NaN              NaN  \n",
       "2             2        0           NaN              NaN  \n",
       "3             1        0           NaN              NaN  \n",
       "4             4        0           NaN              NaN  "
      ]
     },
     "execution_count": 368,
     "metadata": {},
     "output_type": "execute_result"
    }
   ],
   "source": [
    "df.head()"
   ]
  },
  {
   "cell_type": "code",
   "execution_count": 369,
   "metadata": {},
   "outputs": [
    {
     "name": "stdout",
     "output_type": "stream",
     "text": [
      "<class 'pandas.core.frame.DataFrame'>\n",
      "RangeIndex: 1000 entries, 0 to 999\n",
      "Data columns (total 17 columns):\n",
      " #   Column                   Non-Null Count  Dtype  \n",
      "---  ------                   --------------  -----  \n",
      " 0   User_ID                  1000 non-null   int64  \n",
      " 1   Age                      1000 non-null   int64  \n",
      " 2   Gender                   1000 non-null   object \n",
      " 3   Location                 1000 non-null   object \n",
      " 4   Subscription_Start_Date  1000 non-null   object \n",
      " 5   Subscription_Type        1000 non-null   object \n",
      " 6   Monthly_Payment          1000 non-null   float64\n",
      " 7   Payment_Method           1000 non-null   object \n",
      " 8   Monthly_Hours_Watched    1000 non-null   float64\n",
      " 9   Favorite_Genre           1000 non-null   object \n",
      " 10  Devices_Used             1000 non-null   object \n",
      " 11  Average_Session_Length   1000 non-null   float64\n",
      " 12  Content_ID               1000 non-null   int64  \n",
      " 13  Rating_Given             1000 non-null   int64  \n",
      " 14  Churned                  1000 non-null   int64  \n",
      " 15  Date_of_Churn            246 non-null    object \n",
      " 16  Reason_for_Churn         246 non-null    object \n",
      "dtypes: float64(3), int64(5), object(9)\n",
      "memory usage: 132.9+ KB\n"
     ]
    }
   ],
   "source": [
    "df.info()"
   ]
  },
  {
   "cell_type": "code",
   "execution_count": 370,
   "metadata": {},
   "outputs": [],
   "source": [
    "#Cleaning Data 1: Check if there is duplicated data or miss data (except churned)"
   ]
  },
  {
   "cell_type": "code",
   "execution_count": 371,
   "metadata": {},
   "outputs": [
    {
     "data": {
      "text/plain": [
       "User_ID                    False\n",
       "Age                        False\n",
       "Gender                     False\n",
       "Location                   False\n",
       "Subscription_Start_Date    False\n",
       "Subscription_Type          False\n",
       "Monthly_Payment            False\n",
       "Payment_Method             False\n",
       "Monthly_Hours_Watched      False\n",
       "Favorite_Genre             False\n",
       "Devices_Used               False\n",
       "Average_Session_Length     False\n",
       "Content_ID                 False\n",
       "Rating_Given               False\n",
       "Churned                    False\n",
       "Date_of_Churn               True\n",
       "Reason_for_Churn            True\n",
       "dtype: bool"
      ]
     },
     "execution_count": 371,
     "metadata": {},
     "output_type": "execute_result"
    }
   ],
   "source": [
    "df.isna().any()"
   ]
  },
  {
   "cell_type": "code",
   "execution_count": 372,
   "metadata": {},
   "outputs": [
    {
     "data": {
      "text/plain": [
       "False"
      ]
     },
     "execution_count": 372,
     "metadata": {},
     "output_type": "execute_result"
    }
   ],
   "source": [
    "df.duplicated().any()"
   ]
  },
  {
   "cell_type": "code",
   "execution_count": 373,
   "metadata": {},
   "outputs": [],
   "source": [
    "#Cleaning Data 2: Check if there is abnormal/empty cell that may cause erro"
   ]
  },
  {
   "cell_type": "code",
   "execution_count": 374,
   "metadata": {},
   "outputs": [
    {
     "data": {
      "text/plain": [
       "count    1000.000000\n",
       "mean        0.246000\n",
       "std         0.430894\n",
       "min         0.000000\n",
       "25%         0.000000\n",
       "50%         0.000000\n",
       "75%         0.000000\n",
       "max         1.000000\n",
       "Name: Churned, dtype: float64"
      ]
     },
     "execution_count": 374,
     "metadata": {},
     "output_type": "execute_result"
    }
   ],
   "source": [
    "df['Churned'].describe()"
   ]
  },
  {
   "cell_type": "code",
   "execution_count": 375,
   "metadata": {},
   "outputs": [
    {
     "data": {
      "text/plain": [
       "count     1000\n",
       "unique       2\n",
       "top          0\n",
       "freq       754\n",
       "Name: Churned, dtype: int64"
      ]
     },
     "execution_count": 375,
     "metadata": {},
     "output_type": "execute_result"
    }
   ],
   "source": [
    "df['Churned'].astype(object).describe()"
   ]
  },
  {
   "cell_type": "code",
   "execution_count": 376,
   "metadata": {},
   "outputs": [
    {
     "data": {
      "text/plain": [
       "count     246\n",
       "unique      1\n",
       "top         1\n",
       "freq      246\n",
       "Name: Churned, dtype: int64"
      ]
     },
     "execution_count": 376,
     "metadata": {},
     "output_type": "execute_result"
    }
   ],
   "source": [
    "churned =df[df['Churned']!=0]\n",
    "df['Churned'][churned.index].astype(object).describe()"
   ]
  },
  {
   "cell_type": "code",
   "execution_count": 377,
   "metadata": {},
   "outputs": [],
   "source": [
    "#Cleaning Data 3: Check if any invalid data for rating"
   ]
  },
  {
   "cell_type": "code",
   "execution_count": 378,
   "metadata": {},
   "outputs": [
    {
     "data": {
      "text/plain": [
       "count     1000\n",
       "unique       5\n",
       "top          2\n",
       "freq       212\n",
       "Name: Rating_Given, dtype: int64"
      ]
     },
     "execution_count": 378,
     "metadata": {},
     "output_type": "execute_result"
    }
   ],
   "source": [
    "df['Rating_Given'].astype(object).describe()\n"
   ]
  },
  {
   "cell_type": "code",
   "execution_count": 379,
   "metadata": {},
   "outputs": [
    {
     "name": "stdout",
     "output_type": "stream",
     "text": [
      "True\n",
      "True\n"
     ]
    }
   ],
   "source": [
    "print(df[df['Rating_Given']>5].empty)\n",
    "print(df[df['Rating_Given']<1].empty)"
   ]
  },
  {
   "cell_type": "code",
   "execution_count": 380,
   "metadata": {},
   "outputs": [],
   "source": [
    "# Cleaning Data 4: Convert Subscription_Start_Date from string to date, Check if all date are valid"
   ]
  },
  {
   "cell_type": "code",
   "execution_count": 381,
   "metadata": {},
   "outputs": [
    {
     "data": {
      "text/plain": [
       "True"
      ]
     },
     "execution_count": 381,
     "metadata": {},
     "output_type": "execute_result"
    }
   ],
   "source": [
    "import datetime as dt\n",
    "today = dt.date.today()\n",
    "df['Subscription_Start_Date'] = pd.to_datetime(df['Subscription_Start_Date']).dt.date\n",
    "df[df['Subscription_Start_Date'] > today].empty"
   ]
  },
  {
   "cell_type": "code",
   "execution_count": 382,
   "metadata": {},
   "outputs": [
    {
     "name": "stdout",
     "output_type": "stream",
     "text": [
      "<class 'pandas.core.series.Series'>\n",
      "RangeIndex: 1000 entries, 0 to 999\n",
      "Series name: Subscription_Start_Date\n",
      "Non-Null Count  Dtype \n",
      "--------------  ----- \n",
      "1000 non-null   object\n",
      "dtypes: object(1)\n",
      "memory usage: 7.9+ KB\n"
     ]
    }
   ],
   "source": [
    "df['Subscription_Start_Date'].info()"
   ]
  },
  {
   "cell_type": "code",
   "execution_count": 383,
   "metadata": {},
   "outputs": [
    {
     "data": {
      "text/plain": [
       "count     1000.00\n",
       "unique       3.00\n",
       "top         14.99\n",
       "freq       530.00\n",
       "Name: Monthly_Payment, dtype: float64"
      ]
     },
     "execution_count": 383,
     "metadata": {},
     "output_type": "execute_result"
    }
   ],
   "source": [
    "df['Monthly_Payment'].astype(object).describe()"
   ]
  },
  {
   "cell_type": "code",
   "execution_count": 384,
   "metadata": {},
   "outputs": [
    {
     "data": {
      "text/plain": [
       "count            1000\n",
       "unique              3\n",
       "top       Credit Card\n",
       "freq              613\n",
       "Name: Payment_Method, dtype: object"
      ]
     },
     "execution_count": 384,
     "metadata": {},
     "output_type": "execute_result"
    }
   ],
   "source": [
    "df['Payment_Method'].describe()"
   ]
  },
  {
   "cell_type": "code",
   "execution_count": 385,
   "metadata": {},
   "outputs": [
    {
     "data": {
      "text/plain": [
       "count         1000\n",
       "unique           3\n",
       "top       Standard\n",
       "freq           530\n",
       "Name: Subscription_Type, dtype: object"
      ]
     },
     "execution_count": 385,
     "metadata": {},
     "output_type": "execute_result"
    }
   ],
   "source": [
    "df['Subscription_Type'].describe()"
   ]
  },
  {
   "cell_type": "code",
   "execution_count": 386,
   "metadata": {},
   "outputs": [
    {
     "data": {
      "text/plain": [
       "count      1000\n",
       "unique        5\n",
       "top       Drama\n",
       "freq        212\n",
       "Name: Favorite_Genre, dtype: object"
      ]
     },
     "execution_count": 386,
     "metadata": {},
     "output_type": "execute_result"
    }
   ],
   "source": [
    "df['Favorite_Genre'].describe()"
   ]
  },
  {
   "cell_type": "code",
   "execution_count": 387,
   "metadata": {},
   "outputs": [
    {
     "data": {
      "text/plain": [
       "Text(0.5, 1.0, 'Monthly Fee')"
      ]
     },
     "execution_count": 387,
     "metadata": {},
     "output_type": "execute_result"
    },
    {
     "data": {
      "image/png": "[encoded data removed]",
      "text/plain": [
       "<Figure size 640x480 with 1 Axes>"
      ]
     },
     "metadata": {},
     "output_type": "display_data"
    }
   ],
   "source": [
    "plt.hist(df['Monthly_Payment'])\n",
    "plt.xlabel('Monthly Fee')\n",
    "plt.ylabel('Number of Users')\n",
    "plt.title('Monthly Fee')"
   ]
  },
  {
   "cell_type": "code",
   "execution_count": 388,
   "metadata": {},
   "outputs": [],
   "source": [
    "# Create new dataframs for observation"
   ]
  },
  {
   "cell_type": "code",
   "execution_count": 389,
   "metadata": {},
   "outputs": [
    {
     "data": {
      "text/html": [
       "<div>\n",
       "<style scoped>\n",
       "    .dataframe tbody tr th:only-of-type {\n",
       "        vertical-align: middle;\n",
       "    }\n",
       "\n",
       "    .dataframe tbody tr th {\n",
       "        vertical-align: top;\n",
       "    }\n",
       "\n",
       "    .dataframe thead th {\n",
       "        text-align: right;\n",
       "    }\n",
       "</style>\n",
       "<table border=\"1\" class=\"dataframe\">\n",
       "  <thead>\n",
       "    <tr style=\"text-align: right;\">\n",
       "      <th></th>\n",
       "      <th>User_ID</th>\n",
       "      <th>Age</th>\n",
       "      <th>Gender</th>\n",
       "      <th>Location</th>\n",
       "      <th>Subscription_Start_Date</th>\n",
       "      <th>Subscription_Type</th>\n",
       "      <th>Monthly_Payment</th>\n",
       "      <th>Payment_Method</th>\n",
       "      <th>Monthly_Hours_Watched</th>\n",
       "      <th>Favorite_Genre</th>\n",
       "      <th>Devices_Used</th>\n",
       "      <th>Average_Session_Length</th>\n",
       "      <th>Content_ID</th>\n",
       "      <th>Rating_Given</th>\n",
       "      <th>Churned</th>\n",
       "      <th>Date_of_Churn</th>\n",
       "      <th>Reason_for_Churn</th>\n",
       "    </tr>\n",
       "  </thead>\n",
       "  <tbody>\n",
       "    <tr>\n",
       "      <th>14</th>\n",
       "      <td>15</td>\n",
       "      <td>53</td>\n",
       "      <td>Other</td>\n",
       "      <td>East</td>\n",
       "      <td>2023-10-06 01:53:37.657130</td>\n",
       "      <td>Standard</td>\n",
       "      <td>14.99</td>\n",
       "      <td>Credit Card</td>\n",
       "      <td>14.191293</td>\n",
       "      <td>Documentary</td>\n",
       "      <td>Mobile</td>\n",
       "      <td>2.791956</td>\n",
       "      <td>1020</td>\n",
       "      <td>1</td>\n",
       "      <td>1</td>\n",
       "      <td>2024-07-02</td>\n",
       "      <td>Price increase</td>\n",
       "    </tr>\n",
       "    <tr>\n",
       "      <th>211</th>\n",
       "      <td>212</td>\n",
       "      <td>68</td>\n",
       "      <td>Female</td>\n",
       "      <td>East</td>\n",
       "      <td>2024-04-30 01:53:37.659297</td>\n",
       "      <td>Basic</td>\n",
       "      <td>9.99</td>\n",
       "      <td>PayPal</td>\n",
       "      <td>10.481244</td>\n",
       "      <td>Action</td>\n",
       "      <td>TV</td>\n",
       "      <td>2.394593</td>\n",
       "      <td>1084</td>\n",
       "      <td>1</td>\n",
       "      <td>1</td>\n",
       "      <td>2024-08-02</td>\n",
       "      <td>Dissatisfied with content</td>\n",
       "    </tr>\n",
       "    <tr>\n",
       "      <th>272</th>\n",
       "      <td>273</td>\n",
       "      <td>20</td>\n",
       "      <td>Other</td>\n",
       "      <td>South</td>\n",
       "      <td>2023-11-19 01:53:37.659957</td>\n",
       "      <td>Premium</td>\n",
       "      <td>19.99</td>\n",
       "      <td>Direct Debit</td>\n",
       "      <td>10.358403</td>\n",
       "      <td>Documentary</td>\n",
       "      <td>Mobile</td>\n",
       "      <td>1.542190</td>\n",
       "      <td>1079</td>\n",
       "      <td>4</td>\n",
       "      <td>1</td>\n",
       "      <td>2024-08-24</td>\n",
       "      <td>Price increase</td>\n",
       "    </tr>\n",
       "    <tr>\n",
       "      <th>273</th>\n",
       "      <td>274</td>\n",
       "      <td>36</td>\n",
       "      <td>Female</td>\n",
       "      <td>Central</td>\n",
       "      <td>2024-01-04 01:53:37.659969</td>\n",
       "      <td>Basic</td>\n",
       "      <td>9.99</td>\n",
       "      <td>Credit Card</td>\n",
       "      <td>100.009333</td>\n",
       "      <td>Action</td>\n",
       "      <td>Mobile</td>\n",
       "      <td>0.101113</td>\n",
       "      <td>1070</td>\n",
       "      <td>3</td>\n",
       "      <td>1</td>\n",
       "      <td>2024-12-24</td>\n",
       "      <td>Price increase</td>\n",
       "    </tr>\n",
       "    <tr>\n",
       "      <th>283</th>\n",
       "      <td>284</td>\n",
       "      <td>57</td>\n",
       "      <td>Female</td>\n",
       "      <td>South</td>\n",
       "      <td>2024-03-09 01:53:37.660082</td>\n",
       "      <td>Standard</td>\n",
       "      <td>14.99</td>\n",
       "      <td>Direct Debit</td>\n",
       "      <td>6.163371</td>\n",
       "      <td>Sci-Fi</td>\n",
       "      <td>Tablet</td>\n",
       "      <td>0.165868</td>\n",
       "      <td>1006</td>\n",
       "      <td>2</td>\n",
       "      <td>1</td>\n",
       "      <td>2024-08-13</td>\n",
       "      <td>Price increase</td>\n",
       "    </tr>\n",
       "    <tr>\n",
       "      <th>291</th>\n",
       "      <td>292</td>\n",
       "      <td>47</td>\n",
       "      <td>Female</td>\n",
       "      <td>West</td>\n",
       "      <td>2024-02-29 01:53:37.660167</td>\n",
       "      <td>Standard</td>\n",
       "      <td>14.99</td>\n",
       "      <td>PayPal</td>\n",
       "      <td>1.320227</td>\n",
       "      <td>Action</td>\n",
       "      <td>Mobile</td>\n",
       "      <td>2.932846</td>\n",
       "      <td>1087</td>\n",
       "      <td>2</td>\n",
       "      <td>1</td>\n",
       "      <td>2025-01-28</td>\n",
       "      <td>Dissatisfied with content</td>\n",
       "    </tr>\n",
       "    <tr>\n",
       "      <th>316</th>\n",
       "      <td>317</td>\n",
       "      <td>50</td>\n",
       "      <td>Female</td>\n",
       "      <td>East</td>\n",
       "      <td>2023-12-20 01:53:37.660451</td>\n",
       "      <td>Standard</td>\n",
       "      <td>14.99</td>\n",
       "      <td>Credit Card</td>\n",
       "      <td>12.937579</td>\n",
       "      <td>Documentary</td>\n",
       "      <td>Tablet</td>\n",
       "      <td>2.213380</td>\n",
       "      <td>1040</td>\n",
       "      <td>4</td>\n",
       "      <td>1</td>\n",
       "      <td>2024-10-16</td>\n",
       "      <td>Dissatisfied with content</td>\n",
       "    </tr>\n",
       "    <tr>\n",
       "      <th>341</th>\n",
       "      <td>342</td>\n",
       "      <td>21</td>\n",
       "      <td>Male</td>\n",
       "      <td>East</td>\n",
       "      <td>2023-11-24 01:53:37.660719</td>\n",
       "      <td>Standard</td>\n",
       "      <td>14.99</td>\n",
       "      <td>Credit Card</td>\n",
       "      <td>0.762284</td>\n",
       "      <td>Drama</td>\n",
       "      <td>Tablet</td>\n",
       "      <td>0.473995</td>\n",
       "      <td>1077</td>\n",
       "      <td>2</td>\n",
       "      <td>1</td>\n",
       "      <td>2024-10-22</td>\n",
       "      <td>Price increase</td>\n",
       "    </tr>\n",
       "    <tr>\n",
       "      <th>430</th>\n",
       "      <td>431</td>\n",
       "      <td>59</td>\n",
       "      <td>Other</td>\n",
       "      <td>East</td>\n",
       "      <td>2024-04-15 01:53:37.661719</td>\n",
       "      <td>Standard</td>\n",
       "      <td>14.99</td>\n",
       "      <td>Credit Card</td>\n",
       "      <td>10.273156</td>\n",
       "      <td>Action</td>\n",
       "      <td>Mobile</td>\n",
       "      <td>1.143946</td>\n",
       "      <td>1088</td>\n",
       "      <td>2</td>\n",
       "      <td>1</td>\n",
       "      <td>2025-02-09</td>\n",
       "      <td>Dissatisfied with content</td>\n",
       "    </tr>\n",
       "    <tr>\n",
       "      <th>437</th>\n",
       "      <td>438</td>\n",
       "      <td>24</td>\n",
       "      <td>Female</td>\n",
       "      <td>West</td>\n",
       "      <td>2024-01-02 01:53:37.661797</td>\n",
       "      <td>Standard</td>\n",
       "      <td>14.99</td>\n",
       "      <td>Credit Card</td>\n",
       "      <td>25.132078</td>\n",
       "      <td>Sci-Fi</td>\n",
       "      <td>PC</td>\n",
       "      <td>1.759892</td>\n",
       "      <td>1088</td>\n",
       "      <td>3</td>\n",
       "      <td>1</td>\n",
       "      <td>2024-08-01</td>\n",
       "      <td>Dissatisfied with content</td>\n",
       "    </tr>\n",
       "    <tr>\n",
       "      <th>440</th>\n",
       "      <td>441</td>\n",
       "      <td>37</td>\n",
       "      <td>Male</td>\n",
       "      <td>North</td>\n",
       "      <td>2023-10-26 01:53:37.661830</td>\n",
       "      <td>Premium</td>\n",
       "      <td>19.99</td>\n",
       "      <td>Credit Card</td>\n",
       "      <td>0.191784</td>\n",
       "      <td>Documentary</td>\n",
       "      <td>Mobile</td>\n",
       "      <td>0.753120</td>\n",
       "      <td>1036</td>\n",
       "      <td>3</td>\n",
       "      <td>1</td>\n",
       "      <td>2024-10-21</td>\n",
       "      <td>Price increase</td>\n",
       "    </tr>\n",
       "    <tr>\n",
       "      <th>477</th>\n",
       "      <td>478</td>\n",
       "      <td>49</td>\n",
       "      <td>Other</td>\n",
       "      <td>West</td>\n",
       "      <td>2023-10-26 01:53:37.662258</td>\n",
       "      <td>Premium</td>\n",
       "      <td>19.99</td>\n",
       "      <td>Credit Card</td>\n",
       "      <td>1.178801</td>\n",
       "      <td>Documentary</td>\n",
       "      <td>Mobile</td>\n",
       "      <td>0.554628</td>\n",
       "      <td>1050</td>\n",
       "      <td>3</td>\n",
       "      <td>1</td>\n",
       "      <td>2024-07-20</td>\n",
       "      <td>Found better service</td>\n",
       "    </tr>\n",
       "    <tr>\n",
       "      <th>563</th>\n",
       "      <td>564</td>\n",
       "      <td>66</td>\n",
       "      <td>Male</td>\n",
       "      <td>Central</td>\n",
       "      <td>2024-03-15 01:53:37.663166</td>\n",
       "      <td>Premium</td>\n",
       "      <td>19.99</td>\n",
       "      <td>Direct Debit</td>\n",
       "      <td>17.407975</td>\n",
       "      <td>Action</td>\n",
       "      <td>Mobile</td>\n",
       "      <td>0.947227</td>\n",
       "      <td>1036</td>\n",
       "      <td>4</td>\n",
       "      <td>1</td>\n",
       "      <td>2024-06-21</td>\n",
       "      <td>Price increase</td>\n",
       "    </tr>\n",
       "    <tr>\n",
       "      <th>636</th>\n",
       "      <td>637</td>\n",
       "      <td>40</td>\n",
       "      <td>Female</td>\n",
       "      <td>South</td>\n",
       "      <td>2023-11-14 01:53:37.663980</td>\n",
       "      <td>Basic</td>\n",
       "      <td>9.99</td>\n",
       "      <td>Credit Card</td>\n",
       "      <td>5.289836</td>\n",
       "      <td>Sci-Fi</td>\n",
       "      <td>Mobile</td>\n",
       "      <td>1.425621</td>\n",
       "      <td>1066</td>\n",
       "      <td>3</td>\n",
       "      <td>1</td>\n",
       "      <td>2024-07-23</td>\n",
       "      <td>Price increase</td>\n",
       "    </tr>\n",
       "    <tr>\n",
       "      <th>710</th>\n",
       "      <td>711</td>\n",
       "      <td>25</td>\n",
       "      <td>Male</td>\n",
       "      <td>Central</td>\n",
       "      <td>2023-09-15 01:53:37.664764</td>\n",
       "      <td>Basic</td>\n",
       "      <td>9.99</td>\n",
       "      <td>PayPal</td>\n",
       "      <td>7.588446</td>\n",
       "      <td>Sci-Fi</td>\n",
       "      <td>Mobile</td>\n",
       "      <td>3.544298</td>\n",
       "      <td>1009</td>\n",
       "      <td>1</td>\n",
       "      <td>1</td>\n",
       "      <td>2024-07-25</td>\n",
       "      <td>Personal reasons</td>\n",
       "    </tr>\n",
       "    <tr>\n",
       "      <th>715</th>\n",
       "      <td>716</td>\n",
       "      <td>69</td>\n",
       "      <td>Male</td>\n",
       "      <td>West</td>\n",
       "      <td>2024-01-10 01:53:37.664819</td>\n",
       "      <td>Basic</td>\n",
       "      <td>9.99</td>\n",
       "      <td>Credit Card</td>\n",
       "      <td>2.866654</td>\n",
       "      <td>Action</td>\n",
       "      <td>PC</td>\n",
       "      <td>0.763268</td>\n",
       "      <td>1056</td>\n",
       "      <td>1</td>\n",
       "      <td>1</td>\n",
       "      <td>2024-05-29</td>\n",
       "      <td>Found better service</td>\n",
       "    </tr>\n",
       "    <tr>\n",
       "      <th>716</th>\n",
       "      <td>717</td>\n",
       "      <td>34</td>\n",
       "      <td>Male</td>\n",
       "      <td>East</td>\n",
       "      <td>2024-03-14 01:53:37.664830</td>\n",
       "      <td>Standard</td>\n",
       "      <td>14.99</td>\n",
       "      <td>Credit Card</td>\n",
       "      <td>9.777906</td>\n",
       "      <td>Action</td>\n",
       "      <td>TV</td>\n",
       "      <td>0.662375</td>\n",
       "      <td>1022</td>\n",
       "      <td>2</td>\n",
       "      <td>1</td>\n",
       "      <td>2025-01-03</td>\n",
       "      <td>Dissatisfied with content</td>\n",
       "    </tr>\n",
       "    <tr>\n",
       "      <th>747</th>\n",
       "      <td>748</td>\n",
       "      <td>42</td>\n",
       "      <td>Male</td>\n",
       "      <td>North</td>\n",
       "      <td>2023-09-20 01:53:37.665179</td>\n",
       "      <td>Basic</td>\n",
       "      <td>9.99</td>\n",
       "      <td>Direct Debit</td>\n",
       "      <td>1.327894</td>\n",
       "      <td>Sci-Fi</td>\n",
       "      <td>TV</td>\n",
       "      <td>0.810655</td>\n",
       "      <td>1018</td>\n",
       "      <td>4</td>\n",
       "      <td>1</td>\n",
       "      <td>2024-08-21</td>\n",
       "      <td>Dissatisfied with content</td>\n",
       "    </tr>\n",
       "    <tr>\n",
       "      <th>772</th>\n",
       "      <td>773</td>\n",
       "      <td>48</td>\n",
       "      <td>Female</td>\n",
       "      <td>North</td>\n",
       "      <td>2024-03-13 01:53:37.665452</td>\n",
       "      <td>Standard</td>\n",
       "      <td>14.99</td>\n",
       "      <td>PayPal</td>\n",
       "      <td>72.086136</td>\n",
       "      <td>Comedy</td>\n",
       "      <td>Mobile</td>\n",
       "      <td>0.862404</td>\n",
       "      <td>1022</td>\n",
       "      <td>1</td>\n",
       "      <td>1</td>\n",
       "      <td>2024-08-26</td>\n",
       "      <td>Personal reasons</td>\n",
       "    </tr>\n",
       "    <tr>\n",
       "      <th>859</th>\n",
       "      <td>860</td>\n",
       "      <td>27</td>\n",
       "      <td>Male</td>\n",
       "      <td>North</td>\n",
       "      <td>2023-11-30 01:53:37.666414</td>\n",
       "      <td>Basic</td>\n",
       "      <td>9.99</td>\n",
       "      <td>Credit Card</td>\n",
       "      <td>13.600935</td>\n",
       "      <td>Action</td>\n",
       "      <td>PC</td>\n",
       "      <td>0.759901</td>\n",
       "      <td>1000</td>\n",
       "      <td>2</td>\n",
       "      <td>1</td>\n",
       "      <td>2024-07-25</td>\n",
       "      <td>Price increase</td>\n",
       "    </tr>\n",
       "    <tr>\n",
       "      <th>965</th>\n",
       "      <td>966</td>\n",
       "      <td>35</td>\n",
       "      <td>Male</td>\n",
       "      <td>Central</td>\n",
       "      <td>2024-02-11 01:53:37.667542</td>\n",
       "      <td>Standard</td>\n",
       "      <td>14.99</td>\n",
       "      <td>Credit Card</td>\n",
       "      <td>14.751740</td>\n",
       "      <td>Documentary</td>\n",
       "      <td>PC</td>\n",
       "      <td>1.048565</td>\n",
       "      <td>1088</td>\n",
       "      <td>2</td>\n",
       "      <td>1</td>\n",
       "      <td>2024-11-13</td>\n",
       "      <td>Personal reasons</td>\n",
       "    </tr>\n",
       "    <tr>\n",
       "      <th>969</th>\n",
       "      <td>970</td>\n",
       "      <td>38</td>\n",
       "      <td>Female</td>\n",
       "      <td>West</td>\n",
       "      <td>2024-02-23 01:53:37.667586</td>\n",
       "      <td>Basic</td>\n",
       "      <td>9.99</td>\n",
       "      <td>Direct Debit</td>\n",
       "      <td>6.039992</td>\n",
       "      <td>Action</td>\n",
       "      <td>Mobile</td>\n",
       "      <td>4.199113</td>\n",
       "      <td>1058</td>\n",
       "      <td>1</td>\n",
       "      <td>1</td>\n",
       "      <td>2024-12-01</td>\n",
       "      <td>Price increase</td>\n",
       "    </tr>\n",
       "  </tbody>\n",
       "</table>\n",
       "</div>"
      ],
      "text/plain": [
       "     User_ID  Age  Gender Location     Subscription_Start_Date  \\\n",
       "14        15   53   Other     East  2023-10-06 01:53:37.657130   \n",
       "211      212   68  Female     East  2024-04-30 01:53:37.659297   \n",
       "272      273   20   Other    South  2023-11-19 01:53:37.659957   \n",
       "273      274   36  Female  Central  2024-01-04 01:53:37.659969   \n",
       "283      284   57  Female    South  2024-03-09 01:53:37.660082   \n",
       "291      292   47  Female     West  2024-02-29 01:53:37.660167   \n",
       "316      317   50  Female     East  2023-12-20 01:53:37.660451   \n",
       "341      342   21    Male     East  2023-11-24 01:53:37.660719   \n",
       "430      431   59   Other     East  2024-04-15 01:53:37.661719   \n",
       "437      438   24  Female     West  2024-01-02 01:53:37.661797   \n",
       "440      441   37    Male    North  2023-10-26 01:53:37.661830   \n",
       "477      478   49   Other     West  2023-10-26 01:53:37.662258   \n",
       "563      564   66    Male  Central  2024-03-15 01:53:37.663166   \n",
       "636      637   40  Female    South  2023-11-14 01:53:37.663980   \n",
       "710      711   25    Male  Central  2023-09-15 01:53:37.664764   \n",
       "715      716   69    Male     West  2024-01-10 01:53:37.664819   \n",
       "716      717   34    Male     East  2024-03-14 01:53:37.664830   \n",
       "747      748   42    Male    North  2023-09-20 01:53:37.665179   \n",
       "772      773   48  Female    North  2024-03-13 01:53:37.665452   \n",
       "859      860   27    Male    North  2023-11-30 01:53:37.666414   \n",
       "965      966   35    Male  Central  2024-02-11 01:53:37.667542   \n",
       "969      970   38  Female     West  2024-02-23 01:53:37.667586   \n",
       "\n",
       "    Subscription_Type  Monthly_Payment Payment_Method  Monthly_Hours_Watched  \\\n",
       "14           Standard            14.99    Credit Card              14.191293   \n",
       "211             Basic             9.99         PayPal              10.481244   \n",
       "272           Premium            19.99   Direct Debit              10.358403   \n",
       "273             Basic             9.99    Credit Card             100.009333   \n",
       "283          Standard            14.99   Direct Debit               6.163371   \n",
       "291          Standard            14.99         PayPal               1.320227   \n",
       "316          Standard            14.99    Credit Card              12.937579   \n",
       "341          Standard            14.99    Credit Card               0.762284   \n",
       "430          Standard            14.99    Credit Card              10.273156   \n",
       "437          Standard            14.99    Credit Card              25.132078   \n",
       "440           Premium            19.99    Credit Card               0.191784   \n",
       "477           Premium            19.99    Credit Card               1.178801   \n",
       "563           Premium            19.99   Direct Debit              17.407975   \n",
       "636             Basic             9.99    Credit Card               5.289836   \n",
       "710             Basic             9.99         PayPal               7.588446   \n",
       "715             Basic             9.99    Credit Card               2.866654   \n",
       "716          Standard            14.99    Credit Card               9.777906   \n",
       "747             Basic             9.99   Direct Debit               1.327894   \n",
       "772          Standard            14.99         PayPal              72.086136   \n",
       "859             Basic             9.99    Credit Card              13.600935   \n",
       "965          Standard            14.99    Credit Card              14.751740   \n",
       "969             Basic             9.99   Direct Debit               6.039992   \n",
       "\n",
       "    Favorite_Genre Devices_Used  Average_Session_Length  Content_ID  \\\n",
       "14     Documentary       Mobile                2.791956        1020   \n",
       "211         Action           TV                2.394593        1084   \n",
       "272    Documentary       Mobile                1.542190        1079   \n",
       "273         Action       Mobile                0.101113        1070   \n",
       "283         Sci-Fi       Tablet                0.165868        1006   \n",
       "291         Action       Mobile                2.932846        1087   \n",
       "316    Documentary       Tablet                2.213380        1040   \n",
       "341          Drama       Tablet                0.473995        1077   \n",
       "430         Action       Mobile                1.143946        1088   \n",
       "437         Sci-Fi           PC                1.759892        1088   \n",
       "440    Documentary       Mobile                0.753120        1036   \n",
       "477    Documentary       Mobile                0.554628        1050   \n",
       "563         Action       Mobile                0.947227        1036   \n",
       "636         Sci-Fi       Mobile                1.425621        1066   \n",
       "710         Sci-Fi       Mobile                3.544298        1009   \n",
       "715         Action           PC                0.763268        1056   \n",
       "716         Action           TV                0.662375        1022   \n",
       "747         Sci-Fi           TV                0.810655        1018   \n",
       "772         Comedy       Mobile                0.862404        1022   \n",
       "859         Action           PC                0.759901        1000   \n",
       "965    Documentary           PC                1.048565        1088   \n",
       "969         Action       Mobile                4.199113        1058   \n",
       "\n",
       "     Rating_Given  Churned Date_of_Churn           Reason_for_Churn  \n",
       "14              1        1    2024-07-02             Price increase  \n",
       "211             1        1    2024-08-02  Dissatisfied with content  \n",
       "272             4        1    2024-08-24             Price increase  \n",
       "273             3        1    2024-12-24             Price increase  \n",
       "283             2        1    2024-08-13             Price increase  \n",
       "291             2        1    2025-01-28  Dissatisfied with content  \n",
       "316             4        1    2024-10-16  Dissatisfied with content  \n",
       "341             2        1    2024-10-22             Price increase  \n",
       "430             2        1    2025-02-09  Dissatisfied with content  \n",
       "437             3        1    2024-08-01  Dissatisfied with content  \n",
       "440             3        1    2024-10-21             Price increase  \n",
       "477             3        1    2024-07-20       Found better service  \n",
       "563             4        1    2024-06-21             Price increase  \n",
       "636             3        1    2024-07-23             Price increase  \n",
       "710             1        1    2024-07-25           Personal reasons  \n",
       "715             1        1    2024-05-29       Found better service  \n",
       "716             2        1    2025-01-03  Dissatisfied with content  \n",
       "747             4        1    2024-08-21  Dissatisfied with content  \n",
       "772             1        1    2024-08-26           Personal reasons  \n",
       "859             2        1    2024-07-25             Price increase  \n",
       "965             2        1    2024-11-13           Personal reasons  \n",
       "969             1        1    2024-12-01             Price increase  "
      ]
     },
     "execution_count": 389,
     "metadata": {},
     "output_type": "execute_result"
    }
   ],
   "source": [
    "df_churned = churned.copy()\n",
    "df_churned['Date_of_Churn'] = pd.to_datetime(df['Date_of_Churn']).dt.date\n",
    "df_churned[df_churned['Date_of_Churn'] > today]\n"
   ]
  },
  {
   "cell_type": "code",
   "execution_count": 390,
   "metadata": {},
   "outputs": [
    {
     "data": {
      "text/plain": [
       "(246, 17)"
      ]
     },
     "execution_count": 390,
     "metadata": {},
     "output_type": "execute_result"
    }
   ],
   "source": [
    "df_churned.shape"
   ]
  },
  {
   "cell_type": "code",
   "execution_count": 391,
   "metadata": {},
   "outputs": [
    {
     "data": {
      "text/plain": [
       "(224, 17)"
      ]
     },
     "execution_count": 391,
     "metadata": {},
     "output_type": "execute_result"
    }
   ],
   "source": [
    "future_date = df_churned[df_churned['Date_of_Churn'] > today]\n",
    "df_churned = df_churned.drop(future_date.index)\n",
    "df_churned.shape"
   ]
  },
  {
   "cell_type": "code",
   "execution_count": 392,
   "metadata": {},
   "outputs": [
    {
     "name": "stdout",
     "output_type": "stream",
     "text": [
      "<class 'pandas.core.frame.DataFrame'>\n",
      "Index: 754 entries, 0 to 999\n",
      "Data columns (total 14 columns):\n",
      " #   Column                   Non-Null Count  Dtype  \n",
      "---  ------                   --------------  -----  \n",
      " 0   User_ID                  754 non-null    int64  \n",
      " 1   Age                      754 non-null    int64  \n",
      " 2   Gender                   754 non-null    object \n",
      " 3   Location                 754 non-null    object \n",
      " 4   Subscription_Start_Date  754 non-null    object \n",
      " 5   Subscription_Type        754 non-null    object \n",
      " 6   Monthly_Payment          754 non-null    float64\n",
      " 7   Payment_Method           754 non-null    object \n",
      " 8   Monthly_Hours_Watched    754 non-null    float64\n",
      " 9   Favorite_Genre           754 non-null    object \n",
      " 10  Devices_Used             754 non-null    object \n",
      " 11  Average_Session_Length   754 non-null    float64\n",
      " 12  Content_ID               754 non-null    int64  \n",
      " 13  Rating_Given             754 non-null    int64  \n",
      "dtypes: float64(3), int64(4), object(7)\n",
      "memory usage: 88.4+ KB\n"
     ]
    },
    {
     "data": {
      "text/html": [
       "<div>\n",
       "<style scoped>\n",
       "    .dataframe tbody tr th:only-of-type {\n",
       "        vertical-align: middle;\n",
       "    }\n",
       "\n",
       "    .dataframe tbody tr th {\n",
       "        vertical-align: top;\n",
       "    }\n",
       "\n",
       "    .dataframe thead th {\n",
       "        text-align: right;\n",
       "    }\n",
       "</style>\n",
       "<table border=\"1\" class=\"dataframe\">\n",
       "  <thead>\n",
       "    <tr style=\"text-align: right;\">\n",
       "      <th></th>\n",
       "      <th>User_ID</th>\n",
       "      <th>Age</th>\n",
       "      <th>Gender</th>\n",
       "      <th>Location</th>\n",
       "      <th>Subscription_Start_Date</th>\n",
       "      <th>Subscription_Type</th>\n",
       "      <th>Monthly_Payment</th>\n",
       "      <th>Payment_Method</th>\n",
       "      <th>Monthly_Hours_Watched</th>\n",
       "      <th>Favorite_Genre</th>\n",
       "      <th>Devices_Used</th>\n",
       "      <th>Average_Session_Length</th>\n",
       "      <th>Content_ID</th>\n",
       "      <th>Rating_Given</th>\n",
       "    </tr>\n",
       "  </thead>\n",
       "  <tbody>\n",
       "    <tr>\n",
       "      <th>0</th>\n",
       "      <td>1</td>\n",
       "      <td>56</td>\n",
       "      <td>Other</td>\n",
       "      <td>Central</td>\n",
       "      <td>2020-06-07</td>\n",
       "      <td>Premium</td>\n",
       "      <td>19.99</td>\n",
       "      <td>Credit Card</td>\n",
       "      <td>31.513153</td>\n",
       "      <td>Action</td>\n",
       "      <td>PC</td>\n",
       "      <td>1.195762</td>\n",
       "      <td>1023</td>\n",
       "      <td>5</td>\n",
       "    </tr>\n",
       "    <tr>\n",
       "      <th>1</th>\n",
       "      <td>2</td>\n",
       "      <td>69</td>\n",
       "      <td>Other</td>\n",
       "      <td>West</td>\n",
       "      <td>2024-02-21</td>\n",
       "      <td>Standard</td>\n",
       "      <td>14.99</td>\n",
       "      <td>Credit Card</td>\n",
       "      <td>4.982277</td>\n",
       "      <td>Drama</td>\n",
       "      <td>PC</td>\n",
       "      <td>0.809002</td>\n",
       "      <td>1076</td>\n",
       "      <td>1</td>\n",
       "    </tr>\n",
       "    <tr>\n",
       "      <th>2</th>\n",
       "      <td>3</td>\n",
       "      <td>46</td>\n",
       "      <td>Female</td>\n",
       "      <td>North</td>\n",
       "      <td>2022-10-06</td>\n",
       "      <td>Standard</td>\n",
       "      <td>14.99</td>\n",
       "      <td>PayPal</td>\n",
       "      <td>4.114953</td>\n",
       "      <td>Sci-Fi</td>\n",
       "      <td>Tablet</td>\n",
       "      <td>1.153570</td>\n",
       "      <td>1095</td>\n",
       "      <td>2</td>\n",
       "    </tr>\n",
       "    <tr>\n",
       "      <th>3</th>\n",
       "      <td>4</td>\n",
       "      <td>32</td>\n",
       "      <td>Female</td>\n",
       "      <td>East</td>\n",
       "      <td>2022-01-04</td>\n",
       "      <td>Standard</td>\n",
       "      <td>14.99</td>\n",
       "      <td>Credit Card</td>\n",
       "      <td>60.244820</td>\n",
       "      <td>Action</td>\n",
       "      <td>TV</td>\n",
       "      <td>0.609503</td>\n",
       "      <td>1003</td>\n",
       "      <td>1</td>\n",
       "    </tr>\n",
       "    <tr>\n",
       "      <th>4</th>\n",
       "      <td>5</td>\n",
       "      <td>60</td>\n",
       "      <td>Female</td>\n",
       "      <td>North</td>\n",
       "      <td>2020-03-13</td>\n",
       "      <td>Standard</td>\n",
       "      <td>14.99</td>\n",
       "      <td>Credit Card</td>\n",
       "      <td>4.711855</td>\n",
       "      <td>Sci-Fi</td>\n",
       "      <td>Mobile</td>\n",
       "      <td>0.359971</td>\n",
       "      <td>1012</td>\n",
       "      <td>4</td>\n",
       "    </tr>\n",
       "  </tbody>\n",
       "</table>\n",
       "</div>"
      ],
      "text/plain": [
       "   User_ID  Age  Gender Location Subscription_Start_Date Subscription_Type  \\\n",
       "0        1   56   Other  Central              2020-06-07           Premium   \n",
       "1        2   69   Other     West              2024-02-21          Standard   \n",
       "2        3   46  Female    North              2022-10-06          Standard   \n",
       "3        4   32  Female     East              2022-01-04          Standard   \n",
       "4        5   60  Female    North              2020-03-13          Standard   \n",
       "\n",
       "   Monthly_Payment Payment_Method  Monthly_Hours_Watched Favorite_Genre  \\\n",
       "0            19.99    Credit Card              31.513153         Action   \n",
       "1            14.99    Credit Card               4.982277          Drama   \n",
       "2            14.99         PayPal               4.114953         Sci-Fi   \n",
       "3            14.99    Credit Card              60.244820         Action   \n",
       "4            14.99    Credit Card               4.711855         Sci-Fi   \n",
       "\n",
       "  Devices_Used  Average_Session_Length  Content_ID  Rating_Given  \n",
       "0           PC                1.195762        1023             5  \n",
       "1           PC                0.809002        1076             1  \n",
       "2       Tablet                1.153570        1095             2  \n",
       "3           TV                0.609503        1003             1  \n",
       "4       Mobile                0.359971        1012             4  "
      ]
     },
     "execution_count": 392,
     "metadata": {},
     "output_type": "execute_result"
    }
   ],
   "source": [
    "df_stay = df[df['Churned']==0].drop(columns=['Churned','Date_of_Churn','Reason_for_Churn'])\n",
    "df_stay.info()\n",
    "df_stay.head()"
   ]
  },
  {
   "cell_type": "code",
   "execution_count": 393,
   "metadata": {},
   "outputs": [],
   "source": [
    "#Draw histograms "
   ]
  },
  {
   "cell_type": "code",
   "execution_count": 394,
   "metadata": {},
   "outputs": [
    {
     "data": {
      "image/png": "[encoded data removed]",
      "text/plain": [
       "<Figure size 640x480 with 1 Axes>"
      ]
     },
     "metadata": {},
     "output_type": "display_data"
    },
    {
     "data": {
      "text/plain": [
       "<Figure size 640x480 with 0 Axes>"
      ]
     },
     "metadata": {},
     "output_type": "display_data"
    }
   ],
   "source": [
    "ax = plt.subplot()\n",
    "ax.boxplot([df_stay['Rating_Given'],\n",
    "           df_churned['Rating_Given']])\n",
    "ax.set_xticklabels([\"Stayed\",\"Churned\"])\n",
    "ax.set_ylabel(\"Rating Given\")\n",
    "plt.show()\n",
    "plt.clf()"
   ]
  },
  {
   "cell_type": "code",
   "execution_count": 395,
   "metadata": {},
   "outputs": [
    {
     "data": {
      "image/png": "[encoded data removed]",
      "text/plain": [
       "<Figure size 640x480 with 1 Axes>"
      ]
     },
     "metadata": {},
     "output_type": "display_data"
    },
    {
     "data": {
      "text/plain": [
       "<Figure size 640x480 with 0 Axes>"
      ]
     },
     "metadata": {},
     "output_type": "display_data"
    }
   ],
   "source": [
    "ax = plt.subplot()\n",
    "ax.boxplot([df_stay['Average_Session_Length'],\n",
    "           df_churned['Average_Session_Length']])\n",
    "ax.set_xticklabels([\"Stayed\",\"Churned\"])\n",
    "ax.set_ylabel(\"Average_Session_Length\")\n",
    "plt.show()\n",
    "plt.clf()"
   ]
  },
  {
   "cell_type": "code",
   "execution_count": 396,
   "metadata": {},
   "outputs": [
    {
     "data": {
      "text/plain": [
       "<Axes: xlabel='Churned', ylabel='Average_Session_Length'>"
      ]
     },
     "execution_count": 396,
     "metadata": {},
     "output_type": "execute_result"
    },
    {
     "data": {
      "image/png": "[encoded data removed]",
      "text/plain": [
       "<Figure size 640x480 with 1 Axes>"
      ]
     },
     "metadata": {},
     "output_type": "display_data"
    }
   ],
   "source": [
    "sns.scatterplot(x='Churned', y='Average_Session_Length', data=df)"
   ]
  },
  {
   "cell_type": "code",
   "execution_count": 397,
   "metadata": {},
   "outputs": [
    {
     "data": {
      "text/plain": [
       "<BarContainer object of 10 artists>"
      ]
     },
     "execution_count": 397,
     "metadata": {},
     "output_type": "execute_result"
    },
    {
     "data": {
      "image/png": "[encoded data removed]",
      "text/plain": [
       "<Figure size 640x480 with 1 Axes>"
      ]
     },
     "metadata": {},
     "output_type": "display_data"
    }
   ],
   "source": [
    "fig, ax = plt.subplots()\n",
    "\n",
    "a_heights, a_bins = np.histogram(df_churned['Monthly_Payment'])\n",
    "b_heights, b_bins = np.histogram(df_stay['Monthly_Payment'], bins=a_bins)\n",
    "\n",
    "width = (a_bins[1] - a_bins[0])/3\n",
    "\n",
    "ax.bar(a_bins[:-1], a_heights, width=width, color={\"red\":\"Churned\"})\n",
    "ax.bar(b_bins[:-1]+width, b_heights, width=width, color={\"green\":\"Stayed\"})\n"
   ]
  },
  {
   "cell_type": "code",
   "execution_count": 402,
   "metadata": {},
   "outputs": [
    {
     "data": {
      "text/plain": [
       "<Axes: xlabel='Favorite_Genre'>"
      ]
     },
     "execution_count": 402,
     "metadata": {},
     "output_type": "execute_result"
    },
    {
     "data": {
      "image/png": "[encoded data removed]",
      "text/plain": [
       "<Figure size 640x480 with 1 Axes>"
      ]
     },
     "metadata": {},
     "output_type": "display_data"
    }
   ],
   "source": [
    "df_churned.groupby('Favorite_Genre').size().plot(kind='bar')"
   ]
  },
  {
   "cell_type": "code",
   "execution_count": 403,
   "metadata": {},
   "outputs": [
    {
     "data": {
      "text/plain": [
       "<Axes: xlabel='Favorite_Genre'>"
      ]
     },
     "execution_count": 403,
     "metadata": {},
     "output_type": "execute_result"
    },
    {
     "data": {
      "image/png": "[encoded data removed]",
      "text/plain": [
       "<Figure size 640x480 with 1 Axes>"
      ]
     },
     "metadata": {},
     "output_type": "display_data"
    }
   ],
   "source": [
    "df_stay.groupby('Favorite_Genre').size().plot(kind='bar')"
   ]
  }
 ],
 "metadata": {
  "kernelspec": {
   "display_name": "Python 3",
   "language": "python",
   "name": "python3"
  },
  "language_info": {
   "codemirror_mode": {
    "name": "ipython",
    "version": 3
   },
   "file_extension": ".py",
   "mimetype": "text/x-python",
   "name": "python",
   "nbconvert_exporter": "python",
   "pygments_lexer": "ipython3",
   "version": "3.9.6"
  }
 },
 "nbformat": 4,
 "nbformat_minor": 2
}
