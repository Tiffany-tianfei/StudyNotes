{
 "cells": [
  {
   "cell_type": "code",
   "execution_count": 59,
   "metadata": {},
   "outputs": [],
   "source": [
    "import numpy as np\n",
    "import pandas as pd\n",
    "import matplotlib.pyplot as plt\n",
    "import seaborn as sns"
   ]
  },
  {
   "cell_type": "code",
   "execution_count": 60,
   "metadata": {},
   "outputs": [],
   "source": [
    "df = pd.read_csv('https://raw.githubusercontent.com/delinai/schulich_ds1_2024/main/Datasets/Assignment1_StreamFlow_Subscription_Data.csv')"
   ]
  },
  {
   "cell_type": "code",
   "execution_count": 61,
   "metadata": {},
   "outputs": [
    {
     "data": {
      "text/html": [
       "<div>\n",
       "<style scoped>\n",
       "    .dataframe tbody tr th:only-of-type {\n",
       "        vertical-align: middle;\n",
       "    }\n",
       "\n",
       "    .dataframe tbody tr th {\n",
       "        vertical-align: top;\n",
       "    }\n",
       "\n",
       "    .dataframe thead th {\n",
       "        text-align: right;\n",
       "    }\n",
       "</style>\n",
       "<table border=\"1\" class=\"dataframe\">\n",
       "  <thead>\n",
       "    <tr style=\"text-align: right;\">\n",
       "      <th></th>\n",
       "      <th>User_ID</th>\n",
       "      <th>Age</th>\n",
       "      <th>Gender</th>\n",
       "      <th>Location</th>\n",
       "      <th>Subscription_Start_Date</th>\n",
       "      <th>Subscription_Type</th>\n",
       "      <th>Monthly_Payment</th>\n",
       "      <th>Payment_Method</th>\n",
       "      <th>Monthly_Hours_Watched</th>\n",
       "      <th>Favorite_Genre</th>\n",
       "      <th>Devices_Used</th>\n",
       "      <th>Average_Session_Length</th>\n",
       "      <th>Content_ID</th>\n",
       "      <th>Rating_Given</th>\n",
       "      <th>Churned</th>\n",
       "      <th>Date_of_Churn</th>\n",
       "      <th>Reason_for_Churn</th>\n",
       "    </tr>\n",
       "  </thead>\n",
       "  <tbody>\n",
       "    <tr>\n",
       "      <th>0</th>\n",
       "      <td>1</td>\n",
       "      <td>56</td>\n",
       "      <td>Other</td>\n",
       "      <td>Central</td>\n",
       "      <td>2020-06-07 01:53:37.656934</td>\n",
       "      <td>Premium</td>\n",
       "      <td>19.99</td>\n",
       "      <td>Credit Card</td>\n",
       "      <td>31.513153</td>\n",
       "      <td>Action</td>\n",
       "      <td>PC</td>\n",
       "      <td>1.195762</td>\n",
       "      <td>1023</td>\n",
       "      <td>5</td>\n",
       "      <td>0</td>\n",
       "      <td>NaN</td>\n",
       "      <td>NaN</td>\n",
       "    </tr>\n",
       "    <tr>\n",
       "      <th>1</th>\n",
       "      <td>2</td>\n",
       "      <td>69</td>\n",
       "      <td>Other</td>\n",
       "      <td>West</td>\n",
       "      <td>2024-02-21 01:53:37.656980</td>\n",
       "      <td>Standard</td>\n",
       "      <td>14.99</td>\n",
       "      <td>Credit Card</td>\n",
       "      <td>4.982277</td>\n",
       "      <td>Drama</td>\n",
       "      <td>PC</td>\n",
       "      <td>0.809002</td>\n",
       "      <td>1076</td>\n",
       "      <td>1</td>\n",
       "      <td>0</td>\n",
       "      <td>NaN</td>\n",
       "      <td>NaN</td>\n",
       "    </tr>\n",
       "    <tr>\n",
       "      <th>2</th>\n",
       "      <td>3</td>\n",
       "      <td>46</td>\n",
       "      <td>Female</td>\n",
       "      <td>North</td>\n",
       "      <td>2022-10-06 01:53:37.656995</td>\n",
       "      <td>Standard</td>\n",
       "      <td>14.99</td>\n",
       "      <td>PayPal</td>\n",
       "      <td>4.114953</td>\n",
       "      <td>Sci-Fi</td>\n",
       "      <td>Tablet</td>\n",
       "      <td>1.153570</td>\n",
       "      <td>1095</td>\n",
       "      <td>2</td>\n",
       "      <td>0</td>\n",
       "      <td>NaN</td>\n",
       "      <td>NaN</td>\n",
       "    </tr>\n",
       "    <tr>\n",
       "      <th>3</th>\n",
       "      <td>4</td>\n",
       "      <td>32</td>\n",
       "      <td>Female</td>\n",
       "      <td>East</td>\n",
       "      <td>2022-01-04 01:53:37.657006</td>\n",
       "      <td>Standard</td>\n",
       "      <td>14.99</td>\n",
       "      <td>Credit Card</td>\n",
       "      <td>60.244820</td>\n",
       "      <td>Action</td>\n",
       "      <td>TV</td>\n",
       "      <td>0.609503</td>\n",
       "      <td>1003</td>\n",
       "      <td>1</td>\n",
       "      <td>0</td>\n",
       "      <td>NaN</td>\n",
       "      <td>NaN</td>\n",
       "    </tr>\n",
       "    <tr>\n",
       "      <th>4</th>\n",
       "      <td>5</td>\n",
       "      <td>60</td>\n",
       "      <td>Female</td>\n",
       "      <td>North</td>\n",
       "      <td>2020-03-13 01:53:37.657017</td>\n",
       "      <td>Standard</td>\n",
       "      <td>14.99</td>\n",
       "      <td>Credit Card</td>\n",
       "      <td>4.711855</td>\n",
       "      <td>Sci-Fi</td>\n",
       "      <td>Mobile</td>\n",
       "      <td>0.359971</td>\n",
       "      <td>1012</td>\n",
       "      <td>4</td>\n",
       "      <td>0</td>\n",
       "      <td>NaN</td>\n",
       "      <td>NaN</td>\n",
       "    </tr>\n",
       "  </tbody>\n",
       "</table>\n",
       "</div>"
      ],
      "text/plain": [
       "   User_ID  Age  Gender Location     Subscription_Start_Date  \\\n",
       "0        1   56   Other  Central  2020-06-07 01:53:37.656934   \n",
       "1        2   69   Other     West  2024-02-21 01:53:37.656980   \n",
       "2        3   46  Female    North  2022-10-06 01:53:37.656995   \n",
       "3        4   32  Female     East  2022-01-04 01:53:37.657006   \n",
       "4        5   60  Female    North  2020-03-13 01:53:37.657017   \n",
       "\n",
       "  Subscription_Type  Monthly_Payment Payment_Method  Monthly_Hours_Watched  \\\n",
       "0           Premium            19.99    Credit Card              31.513153   \n",
       "1          Standard            14.99    Credit Card               4.982277   \n",
       "2          Standard            14.99         PayPal               4.114953   \n",
       "3          Standard            14.99    Credit Card              60.244820   \n",
       "4          Standard            14.99    Credit Card               4.711855   \n",
       "\n",
       "  Favorite_Genre Devices_Used  Average_Session_Length  Content_ID  \\\n",
       "0         Action           PC                1.195762        1023   \n",
       "1          Drama           PC                0.809002        1076   \n",
       "2         Sci-Fi       Tablet                1.153570        1095   \n",
       "3         Action           TV                0.609503        1003   \n",
       "4         Sci-Fi       Mobile                0.359971        1012   \n",
       "\n",
       "   Rating_Given  Churned Date_of_Churn Reason_for_Churn  \n",
       "0             5        0           NaN              NaN  \n",
       "1             1        0           NaN              NaN  \n",
       "2             2        0           NaN              NaN  \n",
       "3             1        0           NaN              NaN  \n",
       "4             4        0           NaN              NaN  "
      ]
     },
     "execution_count": 61,
     "metadata": {},
     "output_type": "execute_result"
    }
   ],
   "source": [
    "df.head()"
   ]
  },
  {
   "cell_type": "code",
   "execution_count": 62,
   "metadata": {},
   "outputs": [
    {
     "name": "stdout",
     "output_type": "stream",
     "text": [
      "<class 'pandas.core.frame.DataFrame'>\n",
      "RangeIndex: 1000 entries, 0 to 999\n",
      "Data columns (total 17 columns):\n",
      " #   Column                   Non-Null Count  Dtype  \n",
      "---  ------                   --------------  -----  \n",
      " 0   User_ID                  1000 non-null   int64  \n",
      " 1   Age                      1000 non-null   int64  \n",
      " 2   Gender                   1000 non-null   object \n",
      " 3   Location                 1000 non-null   object \n",
      " 4   Subscription_Start_Date  1000 non-null   object \n",
      " 5   Subscription_Type        1000 non-null   object \n",
      " 6   Monthly_Payment          1000 non-null   float64\n",
      " 7   Payment_Method           1000 non-null   object \n",
      " 8   Monthly_Hours_Watched    1000 non-null   float64\n",
      " 9   Favorite_Genre           1000 non-null   object \n",
      " 10  Devices_Used             1000 non-null   object \n",
      " 11  Average_Session_Length   1000 non-null   float64\n",
      " 12  Content_ID               1000 non-null   int64  \n",
      " 13  Rating_Given             1000 non-null   int64  \n",
      " 14  Churned                  1000 non-null   int64  \n",
      " 15  Date_of_Churn            246 non-null    object \n",
      " 16  Reason_for_Churn         246 non-null    object \n",
      "dtypes: float64(3), int64(5), object(9)\n",
      "memory usage: 132.9+ KB\n"
     ]
    }
   ],
   "source": [
    "df.info()"
   ]
  },
  {
   "cell_type": "code",
   "execution_count": 63,
   "metadata": {},
   "outputs": [],
   "source": [
    "#Cleaning Data 1: Check if there is duplicated data"
   ]
  },
  {
   "cell_type": "code",
   "execution_count": 64,
   "metadata": {},
   "outputs": [
    {
     "data": {
      "text/plain": [
       "count      1000\n",
       "unique        1\n",
       "top       False\n",
       "freq       1000\n",
       "dtype: object"
      ]
     },
     "execution_count": 64,
     "metadata": {},
     "output_type": "execute_result"
    }
   ],
   "source": [
    "df.duplicated().describe()"
   ]
  },
  {
   "cell_type": "code",
   "execution_count": 65,
   "metadata": {},
   "outputs": [],
   "source": [
    "#Cleaning Data 2: Check if there is abnormal empty cell that may cause erro"
   ]
  },
  {
   "cell_type": "code",
   "execution_count": 66,
   "metadata": {},
   "outputs": [
    {
     "data": {
      "text/plain": [
       "count    1000.000000\n",
       "mean        0.246000\n",
       "std         0.430894\n",
       "min         0.000000\n",
       "25%         0.000000\n",
       "50%         0.000000\n",
       "75%         0.000000\n",
       "max         1.000000\n",
       "Name: Churned, dtype: float64"
      ]
     },
     "execution_count": 66,
     "metadata": {},
     "output_type": "execute_result"
    }
   ],
   "source": [
    "df['Churned'].describe()"
   ]
  },
  {
   "cell_type": "code",
   "execution_count": 67,
   "metadata": {},
   "outputs": [
    {
     "name": "stdout",
     "output_type": "stream",
     "text": [
      "count     1000\n",
      "unique       2\n",
      "top          0\n",
      "freq       754\n",
      "Name: Churned, dtype: int64\n"
     ]
    }
   ],
   "source": [
    "print(df['Churned'].astype(object).describe())"
   ]
  },
  {
   "cell_type": "code",
   "execution_count": 68,
   "metadata": {},
   "outputs": [
    {
     "data": {
      "text/plain": [
       "count     246\n",
       "unique      1\n",
       "top         1\n",
       "freq      246\n",
       "Name: Churned, dtype: int64"
      ]
     },
     "execution_count": 68,
     "metadata": {},
     "output_type": "execute_result"
    }
   ],
   "source": [
    "churned =df[df['Churned']!=0]\n",
    "df['Churned'][churned.index].astype(object).describe()"
   ]
  },
  {
   "cell_type": "code",
   "execution_count": 69,
   "metadata": {},
   "outputs": [],
   "source": [
    "#Cleaning Data 3: Check if any invalid data for rating"
   ]
  },
  {
   "cell_type": "code",
   "execution_count": 70,
   "metadata": {},
   "outputs": [
    {
     "data": {
      "text/plain": [
       "count     1000\n",
       "unique       5\n",
       "top          2\n",
       "freq       212\n",
       "Name: Rating_Given, dtype: int64"
      ]
     },
     "execution_count": 70,
     "metadata": {},
     "output_type": "execute_result"
    }
   ],
   "source": [
    "df['Rating_Given'].astype(object).describe()\n"
   ]
  },
  {
   "cell_type": "code",
   "execution_count": 71,
   "metadata": {},
   "outputs": [
    {
     "name": "stdout",
     "output_type": "stream",
     "text": [
      "True\n",
      "True\n"
     ]
    }
   ],
   "source": [
    "print(df[df['Rating_Given']>5].empty)\n",
    "print(df[df['Rating_Given']<1].empty)"
   ]
  },
  {
   "cell_type": "code",
   "execution_count": 72,
   "metadata": {},
   "outputs": [],
   "source": [
    "# Cleaning Data 4: Convert Subscription_Start_Date from string to date, Check if all date are valid"
   ]
  },
  {
   "cell_type": "code",
   "execution_count": 73,
   "metadata": {},
   "outputs": [
    {
     "data": {
      "text/plain": [
       "True"
      ]
     },
     "execution_count": 73,
     "metadata": {},
     "output_type": "execute_result"
    }
   ],
   "source": [
    "import datetime as dt\n",
    "today = dt.date.today()\n",
    "df['Subscription_Start_Date'] = pd.to_datetime(df['Subscription_Start_Date']).dt.date\n",
    "df[df['Subscription_Start_Date'] > today].empty"
   ]
  },
  {
   "cell_type": "code",
   "execution_count": 74,
   "metadata": {},
   "outputs": [
    {
     "data": {
      "text/plain": [
       "count            1000\n",
       "unique              3\n",
       "top       Credit Card\n",
       "freq              613\n",
       "Name: Payment_Method, dtype: object"
      ]
     },
     "execution_count": 74,
     "metadata": {},
     "output_type": "execute_result"
    }
   ],
   "source": [
    "df['Payment_Method'].describe()"
   ]
  },
  {
   "cell_type": "code",
   "execution_count": 75,
   "metadata": {},
   "outputs": [
    {
     "data": {
      "text/plain": [
       "count         1000\n",
       "unique           3\n",
       "top       Standard\n",
       "freq           530\n",
       "Name: Subscription_Type, dtype: object"
      ]
     },
     "execution_count": 75,
     "metadata": {},
     "output_type": "execute_result"
    }
   ],
   "source": [
    "df['Subscription_Type'].describe()"
   ]
  },
  {
   "cell_type": "code",
   "execution_count": 76,
   "metadata": {},
   "outputs": [
    {
     "data": {
      "text/plain": [
       "count      1000\n",
       "unique        5\n",
       "top       Drama\n",
       "freq        212\n",
       "Name: Favorite_Genre, dtype: object"
      ]
     },
     "execution_count": 76,
     "metadata": {},
     "output_type": "execute_result"
    }
   ],
   "source": [
    "df['Favorite_Genre'].describe()"
   ]
  },
  {
   "cell_type": "code",
   "execution_count": 77,
   "metadata": {},
   "outputs": [
    {
     "data": {
      "text/plain": [
       "Text(0.5, 1.0, 'Monthly Fee')"
      ]
     },
     "execution_count": 77,
     "metadata": {},
     "output_type": "execute_result"
    },
    {
     "data": {
      "image/png": "[encoded data removed]",
      "text/plain": [
       "<Figure size 640x480 with 1 Axes>"
      ]
     },
     "metadata": {},
     "output_type": "display_data"
    }
   ],
   "source": [
    "plt.hist(df['Monthly_Payment'])\n",
    "plt.xlabel('Monthly Fee')\n",
    "plt.ylabel('Number of Users')\n",
    "plt.title('Monthly Fee')"
   ]
  },
  {
   "cell_type": "code",
   "execution_count": 78,
   "metadata": {},
   "outputs": [],
   "source": [
    "# Create new dataframs for observation"
   ]
  },
  {
   "cell_type": "code",
   "execution_count": 84,
   "metadata": {},
   "outputs": [
    {
     "name": "stdout",
     "output_type": "stream",
     "text": [
      "<class 'pandas.core.frame.DataFrame'>\n",
      "Index: 246 entries, 12 to 998\n",
      "Data columns (total 17 columns):\n",
      " #   Column                   Non-Null Count  Dtype  \n",
      "---  ------                   --------------  -----  \n",
      " 0   User_ID                  246 non-null    int64  \n",
      " 1   Age                      246 non-null    int64  \n",
      " 2   Gender                   246 non-null    object \n",
      " 3   Location                 246 non-null    object \n",
      " 4   Subscription_Start_Date  246 non-null    object \n",
      " 5   Subscription_Type        246 non-null    object \n",
      " 6   Monthly_Payment          246 non-null    float64\n",
      " 7   Payment_Method           246 non-null    object \n",
      " 8   Monthly_Hours_Watched    246 non-null    float64\n",
      " 9   Favorite_Genre           246 non-null    object \n",
      " 10  Devices_Used             246 non-null    object \n",
      " 11  Average_Session_Length   246 non-null    float64\n",
      " 12  Content_ID               246 non-null    int64  \n",
      " 13  Rating_Given             246 non-null    int64  \n",
      " 14  Churned                  246 non-null    int64  \n",
      " 15  Date_of_Churn            246 non-null    object \n",
      " 16  Reason_for_Churn         246 non-null    object \n",
      "dtypes: float64(3), int64(5), object(9)\n",
      "memory usage: 34.6+ KB\n"
     ]
    },
    {
     "data": {
      "text/html": [
       "<div>\n",
       "<style scoped>\n",
       "    .dataframe tbody tr th:only-of-type {\n",
       "        vertical-align: middle;\n",
       "    }\n",
       "\n",
       "    .dataframe tbody tr th {\n",
       "        vertical-align: top;\n",
       "    }\n",
       "\n",
       "    .dataframe thead th {\n",
       "        text-align: right;\n",
       "    }\n",
       "</style>\n",
       "<table border=\"1\" class=\"dataframe\">\n",
       "  <thead>\n",
       "    <tr style=\"text-align: right;\">\n",
       "      <th></th>\n",
       "      <th>User_ID</th>\n",
       "      <th>Age</th>\n",
       "      <th>Gender</th>\n",
       "      <th>Location</th>\n",
       "      <th>Subscription_Start_Date</th>\n",
       "      <th>Subscription_Type</th>\n",
       "      <th>Monthly_Payment</th>\n",
       "      <th>Payment_Method</th>\n",
       "      <th>Monthly_Hours_Watched</th>\n",
       "      <th>Favorite_Genre</th>\n",
       "      <th>Devices_Used</th>\n",
       "      <th>Average_Session_Length</th>\n",
       "      <th>Content_ID</th>\n",
       "      <th>Rating_Given</th>\n",
       "      <th>Churned</th>\n",
       "      <th>Date_of_Churn</th>\n",
       "      <th>Reason_for_Churn</th>\n",
       "    </tr>\n",
       "  </thead>\n",
       "  <tbody>\n",
       "    <tr>\n",
       "      <th>12</th>\n",
       "      <td>13</td>\n",
       "      <td>41</td>\n",
       "      <td>Other</td>\n",
       "      <td>North</td>\n",
       "      <td>2021-04-22 01:53:37.657108</td>\n",
       "      <td>Standard</td>\n",
       "      <td>14.99</td>\n",
       "      <td>Direct Debit</td>\n",
       "      <td>14.011035</td>\n",
       "      <td>Sci-Fi</td>\n",
       "      <td>Mobile</td>\n",
       "      <td>0.152133</td>\n",
       "      <td>1059</td>\n",
       "      <td>5</td>\n",
       "      <td>1</td>\n",
       "      <td>2021-06-13 01:53:37.657108</td>\n",
       "      <td>Found better service</td>\n",
       "    </tr>\n",
       "    <tr>\n",
       "      <th>13</th>\n",
       "      <td>14</td>\n",
       "      <td>70</td>\n",
       "      <td>Other</td>\n",
       "      <td>South</td>\n",
       "      <td>2020-10-29 01:53:37.657119</td>\n",
       "      <td>Standard</td>\n",
       "      <td>14.99</td>\n",
       "      <td>Direct Debit</td>\n",
       "      <td>35.339461</td>\n",
       "      <td>Sci-Fi</td>\n",
       "      <td>Mobile</td>\n",
       "      <td>3.346005</td>\n",
       "      <td>1011</td>\n",
       "      <td>2</td>\n",
       "      <td>1</td>\n",
       "      <td>2021-03-11 01:53:37.657119</td>\n",
       "      <td>Found better service</td>\n",
       "    </tr>\n",
       "    <tr>\n",
       "      <th>14</th>\n",
       "      <td>15</td>\n",
       "      <td>53</td>\n",
       "      <td>Other</td>\n",
       "      <td>East</td>\n",
       "      <td>2023-10-06 01:53:37.657130</td>\n",
       "      <td>Standard</td>\n",
       "      <td>14.99</td>\n",
       "      <td>Credit Card</td>\n",
       "      <td>14.191293</td>\n",
       "      <td>Documentary</td>\n",
       "      <td>Mobile</td>\n",
       "      <td>2.791956</td>\n",
       "      <td>1020</td>\n",
       "      <td>1</td>\n",
       "      <td>1</td>\n",
       "      <td>2024-07-02 01:53:37.657130</td>\n",
       "      <td>Price increase</td>\n",
       "    </tr>\n",
       "    <tr>\n",
       "      <th>16</th>\n",
       "      <td>17</td>\n",
       "      <td>41</td>\n",
       "      <td>Other</td>\n",
       "      <td>South</td>\n",
       "      <td>2019-07-27 01:53:37.657151</td>\n",
       "      <td>Premium</td>\n",
       "      <td>19.99</td>\n",
       "      <td>Credit Card</td>\n",
       "      <td>12.991876</td>\n",
       "      <td>Drama</td>\n",
       "      <td>Mobile</td>\n",
       "      <td>2.519855</td>\n",
       "      <td>1043</td>\n",
       "      <td>1</td>\n",
       "      <td>1</td>\n",
       "      <td>2020-03-16 01:53:37.657151</td>\n",
       "      <td>Found better service</td>\n",
       "    </tr>\n",
       "    <tr>\n",
       "      <th>29</th>\n",
       "      <td>30</td>\n",
       "      <td>39</td>\n",
       "      <td>Male</td>\n",
       "      <td>North</td>\n",
       "      <td>2019-11-05 01:53:37.657296</td>\n",
       "      <td>Standard</td>\n",
       "      <td>14.99</td>\n",
       "      <td>Credit Card</td>\n",
       "      <td>22.258651</td>\n",
       "      <td>Comedy</td>\n",
       "      <td>Mobile</td>\n",
       "      <td>0.838116</td>\n",
       "      <td>1034</td>\n",
       "      <td>2</td>\n",
       "      <td>1</td>\n",
       "      <td>2020-08-13 01:53:37.657296</td>\n",
       "      <td>Price increase</td>\n",
       "    </tr>\n",
       "  </tbody>\n",
       "</table>\n",
       "</div>"
      ],
      "text/plain": [
       "    User_ID  Age Gender Location     Subscription_Start_Date  \\\n",
       "12       13   41  Other    North  2021-04-22 01:53:37.657108   \n",
       "13       14   70  Other    South  2020-10-29 01:53:37.657119   \n",
       "14       15   53  Other     East  2023-10-06 01:53:37.657130   \n",
       "16       17   41  Other    South  2019-07-27 01:53:37.657151   \n",
       "29       30   39   Male    North  2019-11-05 01:53:37.657296   \n",
       "\n",
       "   Subscription_Type  Monthly_Payment Payment_Method  Monthly_Hours_Watched  \\\n",
       "12          Standard            14.99   Direct Debit              14.011035   \n",
       "13          Standard            14.99   Direct Debit              35.339461   \n",
       "14          Standard            14.99    Credit Card              14.191293   \n",
       "16           Premium            19.99    Credit Card              12.991876   \n",
       "29          Standard            14.99    Credit Card              22.258651   \n",
       "\n",
       "   Favorite_Genre Devices_Used  Average_Session_Length  Content_ID  \\\n",
       "12         Sci-Fi       Mobile                0.152133        1059   \n",
       "13         Sci-Fi       Mobile                3.346005        1011   \n",
       "14    Documentary       Mobile                2.791956        1020   \n",
       "16          Drama       Mobile                2.519855        1043   \n",
       "29         Comedy       Mobile                0.838116        1034   \n",
       "\n",
       "    Rating_Given  Churned               Date_of_Churn      Reason_for_Churn  \n",
       "12             5        1  2021-06-13 01:53:37.657108  Found better service  \n",
       "13             2        1  2021-03-11 01:53:37.657119  Found better service  \n",
       "14             1        1  2024-07-02 01:53:37.657130        Price increase  \n",
       "16             1        1  2020-03-16 01:53:37.657151  Found better service  \n",
       "29             2        1  2020-08-13 01:53:37.657296        Price increase  "
      ]
     },
     "execution_count": 84,
     "metadata": {},
     "output_type": "execute_result"
    }
   ],
   "source": [
    "df_churned = churned.copy()\n",
    "df_churned.info()\n",
    "df_churned.head()"
   ]
  },
  {
   "cell_type": "code",
   "execution_count": 83,
   "metadata": {},
   "outputs": [
    {
     "name": "stdout",
     "output_type": "stream",
     "text": [
      "<class 'pandas.core.frame.DataFrame'>\n",
      "Index: 754 entries, 0 to 999\n",
      "Data columns (total 14 columns):\n",
      " #   Column                   Non-Null Count  Dtype  \n",
      "---  ------                   --------------  -----  \n",
      " 0   User_ID                  754 non-null    int64  \n",
      " 1   Age                      754 non-null    int64  \n",
      " 2   Gender                   754 non-null    object \n",
      " 3   Location                 754 non-null    object \n",
      " 4   Subscription_Start_Date  754 non-null    object \n",
      " 5   Subscription_Type        754 non-null    object \n",
      " 6   Monthly_Payment          754 non-null    float64\n",
      " 7   Payment_Method           754 non-null    object \n",
      " 8   Monthly_Hours_Watched    754 non-null    float64\n",
      " 9   Favorite_Genre           754 non-null    object \n",
      " 10  Devices_Used             754 non-null    object \n",
      " 11  Average_Session_Length   754 non-null    float64\n",
      " 12  Content_ID               754 non-null    int64  \n",
      " 13  Rating_Given             754 non-null    int64  \n",
      "dtypes: float64(3), int64(4), object(7)\n",
      "memory usage: 88.4+ KB\n"
     ]
    },
    {
     "data": {
      "text/html": [
       "<div>\n",
       "<style scoped>\n",
       "    .dataframe tbody tr th:only-of-type {\n",
       "        vertical-align: middle;\n",
       "    }\n",
       "\n",
       "    .dataframe tbody tr th {\n",
       "        vertical-align: top;\n",
       "    }\n",
       "\n",
       "    .dataframe thead th {\n",
       "        text-align: right;\n",
       "    }\n",
       "</style>\n",
       "<table border=\"1\" class=\"dataframe\">\n",
       "  <thead>\n",
       "    <tr style=\"text-align: right;\">\n",
       "      <th></th>\n",
       "      <th>User_ID</th>\n",
       "      <th>Age</th>\n",
       "      <th>Gender</th>\n",
       "      <th>Location</th>\n",
       "      <th>Subscription_Start_Date</th>\n",
       "      <th>Subscription_Type</th>\n",
       "      <th>Monthly_Payment</th>\n",
       "      <th>Payment_Method</th>\n",
       "      <th>Monthly_Hours_Watched</th>\n",
       "      <th>Favorite_Genre</th>\n",
       "      <th>Devices_Used</th>\n",
       "      <th>Average_Session_Length</th>\n",
       "      <th>Content_ID</th>\n",
       "      <th>Rating_Given</th>\n",
       "    </tr>\n",
       "  </thead>\n",
       "  <tbody>\n",
       "    <tr>\n",
       "      <th>0</th>\n",
       "      <td>1</td>\n",
       "      <td>56</td>\n",
       "      <td>Other</td>\n",
       "      <td>Central</td>\n",
       "      <td>2020-06-07</td>\n",
       "      <td>Premium</td>\n",
       "      <td>19.99</td>\n",
       "      <td>Credit Card</td>\n",
       "      <td>31.513153</td>\n",
       "      <td>Action</td>\n",
       "      <td>PC</td>\n",
       "      <td>1.195762</td>\n",
       "      <td>1023</td>\n",
       "      <td>5</td>\n",
       "    </tr>\n",
       "    <tr>\n",
       "      <th>1</th>\n",
       "      <td>2</td>\n",
       "      <td>69</td>\n",
       "      <td>Other</td>\n",
       "      <td>West</td>\n",
       "      <td>2024-02-21</td>\n",
       "      <td>Standard</td>\n",
       "      <td>14.99</td>\n",
       "      <td>Credit Card</td>\n",
       "      <td>4.982277</td>\n",
       "      <td>Drama</td>\n",
       "      <td>PC</td>\n",
       "      <td>0.809002</td>\n",
       "      <td>1076</td>\n",
       "      <td>1</td>\n",
       "    </tr>\n",
       "    <tr>\n",
       "      <th>2</th>\n",
       "      <td>3</td>\n",
       "      <td>46</td>\n",
       "      <td>Female</td>\n",
       "      <td>North</td>\n",
       "      <td>2022-10-06</td>\n",
       "      <td>Standard</td>\n",
       "      <td>14.99</td>\n",
       "      <td>PayPal</td>\n",
       "      <td>4.114953</td>\n",
       "      <td>Sci-Fi</td>\n",
       "      <td>Tablet</td>\n",
       "      <td>1.153570</td>\n",
       "      <td>1095</td>\n",
       "      <td>2</td>\n",
       "    </tr>\n",
       "    <tr>\n",
       "      <th>3</th>\n",
       "      <td>4</td>\n",
       "      <td>32</td>\n",
       "      <td>Female</td>\n",
       "      <td>East</td>\n",
       "      <td>2022-01-04</td>\n",
       "      <td>Standard</td>\n",
       "      <td>14.99</td>\n",
       "      <td>Credit Card</td>\n",
       "      <td>60.244820</td>\n",
       "      <td>Action</td>\n",
       "      <td>TV</td>\n",
       "      <td>0.609503</td>\n",
       "      <td>1003</td>\n",
       "      <td>1</td>\n",
       "    </tr>\n",
       "    <tr>\n",
       "      <th>4</th>\n",
       "      <td>5</td>\n",
       "      <td>60</td>\n",
       "      <td>Female</td>\n",
       "      <td>North</td>\n",
       "      <td>2020-03-13</td>\n",
       "      <td>Standard</td>\n",
       "      <td>14.99</td>\n",
       "      <td>Credit Card</td>\n",
       "      <td>4.711855</td>\n",
       "      <td>Sci-Fi</td>\n",
       "      <td>Mobile</td>\n",
       "      <td>0.359971</td>\n",
       "      <td>1012</td>\n",
       "      <td>4</td>\n",
       "    </tr>\n",
       "  </tbody>\n",
       "</table>\n",
       "</div>"
      ],
      "text/plain": [
       "   User_ID  Age  Gender Location Subscription_Start_Date Subscription_Type  \\\n",
       "0        1   56   Other  Central              2020-06-07           Premium   \n",
       "1        2   69   Other     West              2024-02-21          Standard   \n",
       "2        3   46  Female    North              2022-10-06          Standard   \n",
       "3        4   32  Female     East              2022-01-04          Standard   \n",
       "4        5   60  Female    North              2020-03-13          Standard   \n",
       "\n",
       "   Monthly_Payment Payment_Method  Monthly_Hours_Watched Favorite_Genre  \\\n",
       "0            19.99    Credit Card              31.513153         Action   \n",
       "1            14.99    Credit Card               4.982277          Drama   \n",
       "2            14.99         PayPal               4.114953         Sci-Fi   \n",
       "3            14.99    Credit Card              60.244820         Action   \n",
       "4            14.99    Credit Card               4.711855         Sci-Fi   \n",
       "\n",
       "  Devices_Used  Average_Session_Length  Content_ID  Rating_Given  \n",
       "0           PC                1.195762        1023             5  \n",
       "1           PC                0.809002        1076             1  \n",
       "2       Tablet                1.153570        1095             2  \n",
       "3           TV                0.609503        1003             1  \n",
       "4       Mobile                0.359971        1012             4  "
      ]
     },
     "execution_count": 83,
     "metadata": {},
     "output_type": "execute_result"
    }
   ],
   "source": [
    "df_stay = df[df['Churned']==0].drop(columns=['Churned','Date_of_Churn','Reason_for_Churn'])\n",
    "df_stay.info()\n",
    "df_stay.head()"
   ]
  },
  {
   "cell_type": "code",
   "execution_count": 82,
   "metadata": {},
   "outputs": [],
   "source": [
    "#Draw histograms "
   ]
  },
  {
   "cell_type": "code",
   "execution_count": 85,
   "metadata": {},
   "outputs": [
    {
     "data": {
      "image/png": "[encoded data removed]",
      "text/plain": [
       "<Figure size 640x480 with 1 Axes>"
      ]
     },
     "metadata": {},
     "output_type": "display_data"
    }
   ],
   "source": [
    "df[df['Churned']==0]['Rating_Given'].hist()\n",
    "df[df['Churned']==1]['Rating_Given'].hist()\n",
    "plt.legend(['Stayed','Churned'])\n",
    "plt.show()"
   ]
  },
  {
   "cell_type": "code",
   "execution_count": null,
   "metadata": {},
   "outputs": [],
   "source": []
  }
 ],
 "metadata": {
  "kernelspec": {
   "display_name": "Python 3",
   "language": "python",
   "name": "python3"
  },
  "language_info": {
   "codemirror_mode": {
    "name": "ipython",
    "version": 3
   },
   "file_extension": ".py",
   "mimetype": "text/x-python",
   "name": "python",
   "nbconvert_exporter": "python",
   "pygments_lexer": "ipython3",
   "version": "3.9.6"
  }
 },
 "nbformat": 4,
 "nbformat_minor": 2
}
